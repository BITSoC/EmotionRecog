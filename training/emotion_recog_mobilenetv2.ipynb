{
  "nbformat": 4,
  "nbformat_minor": 0,
  "metadata": {
    "colab": {
      "name": "emotion_recog_mobilenetv2.ipynb",
      "provenance": []
    },
    "kernelspec": {
      "name": "python3",
      "display_name": "Python 3"
    },
    "accelerator": "GPU"
  },
  "cells": [
    {
      "cell_type": "code",
      "metadata": {
        "id": "UBtcvhCzIKcM",
        "colab_type": "code",
        "colab": {
          "base_uri": "https://localhost:8080/",
          "height": 122
        },
        "outputId": "45c45cfc-9efd-41d5-b41b-62b1b7228cb9"
      },
      "source": [
        "from google.colab import drive\n",
        "drive.mount('/content/gdrive',force_remount=True)"
      ],
      "execution_count": 1,
      "outputs": [
        {
          "output_type": "stream",
          "text": [
            "Go to this URL in a browser: https://accounts.google.com/o/oauth2/auth?client_id=947318989803-6bn6qk8qdgf4n4g3pfee6491hc0brc4i.apps.googleusercontent.com&redirect_uri=urn%3aietf%3awg%3aoauth%3a2.0%3aoob&scope=email%20https%3a%2f%2fwww.googleapis.com%2fauth%2fdocs.test%20https%3a%2f%2fwww.googleapis.com%2fauth%2fdrive%20https%3a%2f%2fwww.googleapis.com%2fauth%2fdrive.photos.readonly%20https%3a%2f%2fwww.googleapis.com%2fauth%2fpeopleapi.readonly&response_type=code\n",
            "\n",
            "Enter your authorization code:\n",
            "··········\n",
            "Mounted at /content/gdrive\n"
          ],
          "name": "stdout"
        }
      ]
    },
    {
      "cell_type": "markdown",
      "metadata": {
        "id": "i0JR5MZ8ZdCd",
        "colab_type": "text"
      },
      "source": [
        "# Imported importanat libraries"
      ]
    },
    {
      "cell_type": "code",
      "metadata": {
        "id": "H3pMDg6ITM-I",
        "colab_type": "code",
        "colab": {}
      },
      "source": [
        "# baseline model with dropout and data augmentation on the cifar10 dataset\n",
        "import sys\n",
        "import tensorflow\n",
        "from matplotlib import pyplot\n",
        "from tensorflow.keras.utils import to_categorical\n",
        "from tensorflow.keras.models import Sequential,Model\n",
        "from tensorflow.keras.layers import Conv2D,MaxPooling2D,Dense,Flatten,Dropout,BatchNormalization,AveragePooling2D\n",
        "from tensorflow.keras.optimizers import SGD,Adam\n",
        "from tensorflow.keras.preprocessing.image import ImageDataGenerator\n",
        "from sklearn.model_selection import train_test_split\n",
        "from tensorflow.keras.preprocessing.image import img_to_array\n",
        "from tensorflow.keras.preprocessing.image import load_img\n",
        "from imutils import paths\n",
        "import matplotlib.pyplot as plt\n",
        "import numpy as np\n",
        "import random\n",
        "import os"
      ],
      "execution_count": 8,
      "outputs": []
    },
    {
      "cell_type": "markdown",
      "metadata": {
        "id": "M41fO_omZjwz",
        "colab_type": "text"
      },
      "source": [
        "# Preprocessing of image and labels"
      ]
    },
    {
      "cell_type": "code",
      "metadata": {
        "id": "8N63dW1iIoO5",
        "colab_type": "code",
        "colab": {}
      },
      "source": [
        "data_train = '/content/gdrive/My Drive/emotion_recog/emo'"
      ],
      "execution_count": 3,
      "outputs": []
    },
    {
      "cell_type": "code",
      "metadata": {
        "id": "HsddBMnmTPSX",
        "colab_type": "code",
        "colab": {
          "base_uri": "https://localhost:8080/",
          "height": 51
        },
        "outputId": "6e7a1a0b-2549-4705-dd8d-3636fd9f3070"
      },
      "source": [
        "imagepaths = list(paths.list_images(data_train))\n",
        "random.shuffle(imagepaths)\n",
        "random.seed(42)\n",
        "data_images = []\n",
        "labels = []\n",
        "for imgpath in imagepaths:\n",
        "\tlabel = imgpath.split(os.path.sep)[-2]\n",
        "\timg = load_img(imgpath, target_size=(224, 224))\n",
        "\tdata_images.append(img_to_array(img)/255.)\n",
        "\tlabels.append(label) "
      ],
      "execution_count": 4,
      "outputs": [
        {
          "output_type": "stream",
          "text": [
            "/usr/local/lib/python3.6/dist-packages/PIL/Image.py:932: UserWarning: Palette images with Transparency expressed in bytes should be converted to RGBA images\n",
            "  \"Palette images with Transparency expressed in bytes should be \"\n"
          ],
          "name": "stderr"
        }
      ]
    },
    {
      "cell_type": "code",
      "metadata": {
        "id": "Zdd2zWMvDp8d",
        "colab_type": "code",
        "colab": {}
      },
      "source": [
        "from sklearn.preprocessing import LabelEncoder\n",
        "lb = LabelEncoder()\n",
        "labels_z = lb.fit_transform(np.array(labels))\n",
        "labels_value = to_categorical(labels_z,num_classes=6)\n",
        "data = np.array(data_images,dtype='float32')"
      ],
      "execution_count": 5,
      "outputs": []
    },
    {
      "cell_type": "markdown",
      "metadata": {
        "id": "4GqGkNLAZrS2",
        "colab_type": "text"
      },
      "source": [
        "# train and test splitting with sklearn\n"
      ]
    },
    {
      "cell_type": "code",
      "metadata": {
        "id": "8ZIwxrwYq2ZI",
        "colab_type": "code",
        "colab": {}
      },
      "source": [
        "trainX, testX,trainY, testY = train_test_split(data, labels_value,test_size=0.2, random_state=42,shuffle = True)"
      ],
      "execution_count": 6,
      "outputs": []
    },
    {
      "cell_type": "markdown",
      "metadata": {
        "id": "SuWZwqblZzBe",
        "colab_type": "text"
      },
      "source": [
        "# Transfer learning - Mobilenet-v2"
      ]
    },
    {
      "cell_type": "code",
      "metadata": {
        "id": "uPqbFPP472I6",
        "colab_type": "code",
        "colab": {
          "base_uri": "https://localhost:8080/",
          "height": 71
        },
        "outputId": "fc0077c6-9a0e-4fd2-e3e7-a8d5ef5d5912"
      },
      "source": [
        "from tensorflow.keras.applications.mobilenet_v2 import preprocess_input\n",
        "from tensorflow.keras.applications import MobileNetV2\n",
        "from tensorflow.keras.layers import Input\n",
        "baseModel = MobileNetV2(weights=\"imagenet\", include_top=False,input_tensor=Input(shape=(224, 224, 3)))\n",
        "\n",
        "# construct the head of the model that will be placed on top of the\n",
        "# the base model\n",
        "headModel = baseModel.output\n",
        "headModel = AveragePooling2D(pool_size=(7, 7))(headModel)\n",
        "headModel = Flatten(name=\"flatten\")(headModel)\n",
        "headModel = Dense(128, activation=\"relu\")(headModel)\n",
        "headModel = Dropout(0.5)(headModel)\n",
        "headModel = Dense(6, activation=\"softmax\")(headModel)\n",
        "model2 = Model(inputs=baseModel.input, outputs=headModel)\n",
        "\n",
        "# loop over all layers in the base model and freeze them so they will\n",
        "# *not* be updated during the first training process\n",
        "for layer in baseModel.layers:\n",
        "\tlayer.trainable = False\n",
        "\n",
        "# compile our model\n",
        "INIT_LR = 1e-4\n",
        "print(\"[INFO] compiling model...\")\n",
        "opt = Adam(lr=INIT_LR, decay=INIT_LR /100)\n",
        "model2.compile(loss=\"categorical_crossentropy\", optimizer=opt,\n",
        "\tmetrics=[\"accuracy\"])\n"
      ],
      "execution_count": 9,
      "outputs": [
        {
          "output_type": "stream",
          "text": [
            "WARNING:tensorflow:`input_shape` is undefined or non-square, or `rows` is not in [96, 128, 160, 192, 224]. Weights for input shape (224, 224) will be loaded as the default.\n",
            "[INFO] compiling model...\n"
          ],
          "name": "stdout"
        }
      ]
    },
    {
      "cell_type": "code",
      "metadata": {
        "id": "8Z_FsV5Thpjy",
        "colab_type": "code",
        "colab": {
          "base_uri": "https://localhost:8080/",
          "height": 1000
        },
        "outputId": "32e89420-1ccb-4a7f-c5c6-2150117ff656"
      },
      "source": [
        "model2.summary()"
      ],
      "execution_count": 16,
      "outputs": [
        {
          "output_type": "stream",
          "text": [
            "Model: \"functional_1\"\n",
            "__________________________________________________________________________________________________\n",
            "Layer (type)                    Output Shape         Param #     Connected to                     \n",
            "==================================================================================================\n",
            "input_2 (InputLayer)            [(None, 224, 224, 3) 0                                            \n",
            "__________________________________________________________________________________________________\n",
            "Conv1_pad (ZeroPadding2D)       (None, 225, 225, 3)  0           input_2[0][0]                    \n",
            "__________________________________________________________________________________________________\n",
            "Conv1 (Conv2D)                  (None, 112, 112, 32) 864         Conv1_pad[0][0]                  \n",
            "__________________________________________________________________________________________________\n",
            "bn_Conv1 (BatchNormalization)   (None, 112, 112, 32) 128         Conv1[0][0]                      \n",
            "__________________________________________________________________________________________________\n",
            "Conv1_relu (ReLU)               (None, 112, 112, 32) 0           bn_Conv1[0][0]                   \n",
            "__________________________________________________________________________________________________\n",
            "expanded_conv_depthwise (Depthw (None, 112, 112, 32) 288         Conv1_relu[0][0]                 \n",
            "__________________________________________________________________________________________________\n",
            "expanded_conv_depthwise_BN (Bat (None, 112, 112, 32) 128         expanded_conv_depthwise[0][0]    \n",
            "__________________________________________________________________________________________________\n",
            "expanded_conv_depthwise_relu (R (None, 112, 112, 32) 0           expanded_conv_depthwise_BN[0][0] \n",
            "__________________________________________________________________________________________________\n",
            "expanded_conv_project (Conv2D)  (None, 112, 112, 16) 512         expanded_conv_depthwise_relu[0][0\n",
            "__________________________________________________________________________________________________\n",
            "expanded_conv_project_BN (Batch (None, 112, 112, 16) 64          expanded_conv_project[0][0]      \n",
            "__________________________________________________________________________________________________\n",
            "block_1_expand (Conv2D)         (None, 112, 112, 96) 1536        expanded_conv_project_BN[0][0]   \n",
            "__________________________________________________________________________________________________\n",
            "block_1_expand_BN (BatchNormali (None, 112, 112, 96) 384         block_1_expand[0][0]             \n",
            "__________________________________________________________________________________________________\n",
            "block_1_expand_relu (ReLU)      (None, 112, 112, 96) 0           block_1_expand_BN[0][0]          \n",
            "__________________________________________________________________________________________________\n",
            "block_1_pad (ZeroPadding2D)     (None, 113, 113, 96) 0           block_1_expand_relu[0][0]        \n",
            "__________________________________________________________________________________________________\n",
            "block_1_depthwise (DepthwiseCon (None, 56, 56, 96)   864         block_1_pad[0][0]                \n",
            "__________________________________________________________________________________________________\n",
            "block_1_depthwise_BN (BatchNorm (None, 56, 56, 96)   384         block_1_depthwise[0][0]          \n",
            "__________________________________________________________________________________________________\n",
            "block_1_depthwise_relu (ReLU)   (None, 56, 56, 96)   0           block_1_depthwise_BN[0][0]       \n",
            "__________________________________________________________________________________________________\n",
            "block_1_project (Conv2D)        (None, 56, 56, 24)   2304        block_1_depthwise_relu[0][0]     \n",
            "__________________________________________________________________________________________________\n",
            "block_1_project_BN (BatchNormal (None, 56, 56, 24)   96          block_1_project[0][0]            \n",
            "__________________________________________________________________________________________________\n",
            "block_2_expand (Conv2D)         (None, 56, 56, 144)  3456        block_1_project_BN[0][0]         \n",
            "__________________________________________________________________________________________________\n",
            "block_2_expand_BN (BatchNormali (None, 56, 56, 144)  576         block_2_expand[0][0]             \n",
            "__________________________________________________________________________________________________\n",
            "block_2_expand_relu (ReLU)      (None, 56, 56, 144)  0           block_2_expand_BN[0][0]          \n",
            "__________________________________________________________________________________________________\n",
            "block_2_depthwise (DepthwiseCon (None, 56, 56, 144)  1296        block_2_expand_relu[0][0]        \n",
            "__________________________________________________________________________________________________\n",
            "block_2_depthwise_BN (BatchNorm (None, 56, 56, 144)  576         block_2_depthwise[0][0]          \n",
            "__________________________________________________________________________________________________\n",
            "block_2_depthwise_relu (ReLU)   (None, 56, 56, 144)  0           block_2_depthwise_BN[0][0]       \n",
            "__________________________________________________________________________________________________\n",
            "block_2_project (Conv2D)        (None, 56, 56, 24)   3456        block_2_depthwise_relu[0][0]     \n",
            "__________________________________________________________________________________________________\n",
            "block_2_project_BN (BatchNormal (None, 56, 56, 24)   96          block_2_project[0][0]            \n",
            "__________________________________________________________________________________________________\n",
            "block_2_add (Add)               (None, 56, 56, 24)   0           block_1_project_BN[0][0]         \n",
            "                                                                 block_2_project_BN[0][0]         \n",
            "__________________________________________________________________________________________________\n",
            "block_3_expand (Conv2D)         (None, 56, 56, 144)  3456        block_2_add[0][0]                \n",
            "__________________________________________________________________________________________________\n",
            "block_3_expand_BN (BatchNormali (None, 56, 56, 144)  576         block_3_expand[0][0]             \n",
            "__________________________________________________________________________________________________\n",
            "block_3_expand_relu (ReLU)      (None, 56, 56, 144)  0           block_3_expand_BN[0][0]          \n",
            "__________________________________________________________________________________________________\n",
            "block_3_pad (ZeroPadding2D)     (None, 57, 57, 144)  0           block_3_expand_relu[0][0]        \n",
            "__________________________________________________________________________________________________\n",
            "block_3_depthwise (DepthwiseCon (None, 28, 28, 144)  1296        block_3_pad[0][0]                \n",
            "__________________________________________________________________________________________________\n",
            "block_3_depthwise_BN (BatchNorm (None, 28, 28, 144)  576         block_3_depthwise[0][0]          \n",
            "__________________________________________________________________________________________________\n",
            "block_3_depthwise_relu (ReLU)   (None, 28, 28, 144)  0           block_3_depthwise_BN[0][0]       \n",
            "__________________________________________________________________________________________________\n",
            "block_3_project (Conv2D)        (None, 28, 28, 32)   4608        block_3_depthwise_relu[0][0]     \n",
            "__________________________________________________________________________________________________\n",
            "block_3_project_BN (BatchNormal (None, 28, 28, 32)   128         block_3_project[0][0]            \n",
            "__________________________________________________________________________________________________\n",
            "block_4_expand (Conv2D)         (None, 28, 28, 192)  6144        block_3_project_BN[0][0]         \n",
            "__________________________________________________________________________________________________\n",
            "block_4_expand_BN (BatchNormali (None, 28, 28, 192)  768         block_4_expand[0][0]             \n",
            "__________________________________________________________________________________________________\n",
            "block_4_expand_relu (ReLU)      (None, 28, 28, 192)  0           block_4_expand_BN[0][0]          \n",
            "__________________________________________________________________________________________________\n",
            "block_4_depthwise (DepthwiseCon (None, 28, 28, 192)  1728        block_4_expand_relu[0][0]        \n",
            "__________________________________________________________________________________________________\n",
            "block_4_depthwise_BN (BatchNorm (None, 28, 28, 192)  768         block_4_depthwise[0][0]          \n",
            "__________________________________________________________________________________________________\n",
            "block_4_depthwise_relu (ReLU)   (None, 28, 28, 192)  0           block_4_depthwise_BN[0][0]       \n",
            "__________________________________________________________________________________________________\n",
            "block_4_project (Conv2D)        (None, 28, 28, 32)   6144        block_4_depthwise_relu[0][0]     \n",
            "__________________________________________________________________________________________________\n",
            "block_4_project_BN (BatchNormal (None, 28, 28, 32)   128         block_4_project[0][0]            \n",
            "__________________________________________________________________________________________________\n",
            "block_4_add (Add)               (None, 28, 28, 32)   0           block_3_project_BN[0][0]         \n",
            "                                                                 block_4_project_BN[0][0]         \n",
            "__________________________________________________________________________________________________\n",
            "block_5_expand (Conv2D)         (None, 28, 28, 192)  6144        block_4_add[0][0]                \n",
            "__________________________________________________________________________________________________\n",
            "block_5_expand_BN (BatchNormali (None, 28, 28, 192)  768         block_5_expand[0][0]             \n",
            "__________________________________________________________________________________________________\n",
            "block_5_expand_relu (ReLU)      (None, 28, 28, 192)  0           block_5_expand_BN[0][0]          \n",
            "__________________________________________________________________________________________________\n",
            "block_5_depthwise (DepthwiseCon (None, 28, 28, 192)  1728        block_5_expand_relu[0][0]        \n",
            "__________________________________________________________________________________________________\n",
            "block_5_depthwise_BN (BatchNorm (None, 28, 28, 192)  768         block_5_depthwise[0][0]          \n",
            "__________________________________________________________________________________________________\n",
            "block_5_depthwise_relu (ReLU)   (None, 28, 28, 192)  0           block_5_depthwise_BN[0][0]       \n",
            "__________________________________________________________________________________________________\n",
            "block_5_project (Conv2D)        (None, 28, 28, 32)   6144        block_5_depthwise_relu[0][0]     \n",
            "__________________________________________________________________________________________________\n",
            "block_5_project_BN (BatchNormal (None, 28, 28, 32)   128         block_5_project[0][0]            \n",
            "__________________________________________________________________________________________________\n",
            "block_5_add (Add)               (None, 28, 28, 32)   0           block_4_add[0][0]                \n",
            "                                                                 block_5_project_BN[0][0]         \n",
            "__________________________________________________________________________________________________\n",
            "block_6_expand (Conv2D)         (None, 28, 28, 192)  6144        block_5_add[0][0]                \n",
            "__________________________________________________________________________________________________\n",
            "block_6_expand_BN (BatchNormali (None, 28, 28, 192)  768         block_6_expand[0][0]             \n",
            "__________________________________________________________________________________________________\n",
            "block_6_expand_relu (ReLU)      (None, 28, 28, 192)  0           block_6_expand_BN[0][0]          \n",
            "__________________________________________________________________________________________________\n",
            "block_6_pad (ZeroPadding2D)     (None, 29, 29, 192)  0           block_6_expand_relu[0][0]        \n",
            "__________________________________________________________________________________________________\n",
            "block_6_depthwise (DepthwiseCon (None, 14, 14, 192)  1728        block_6_pad[0][0]                \n",
            "__________________________________________________________________________________________________\n",
            "block_6_depthwise_BN (BatchNorm (None, 14, 14, 192)  768         block_6_depthwise[0][0]          \n",
            "__________________________________________________________________________________________________\n",
            "block_6_depthwise_relu (ReLU)   (None, 14, 14, 192)  0           block_6_depthwise_BN[0][0]       \n",
            "__________________________________________________________________________________________________\n",
            "block_6_project (Conv2D)        (None, 14, 14, 64)   12288       block_6_depthwise_relu[0][0]     \n",
            "__________________________________________________________________________________________________\n",
            "block_6_project_BN (BatchNormal (None, 14, 14, 64)   256         block_6_project[0][0]            \n",
            "__________________________________________________________________________________________________\n",
            "block_7_expand (Conv2D)         (None, 14, 14, 384)  24576       block_6_project_BN[0][0]         \n",
            "__________________________________________________________________________________________________\n",
            "block_7_expand_BN (BatchNormali (None, 14, 14, 384)  1536        block_7_expand[0][0]             \n",
            "__________________________________________________________________________________________________\n",
            "block_7_expand_relu (ReLU)      (None, 14, 14, 384)  0           block_7_expand_BN[0][0]          \n",
            "__________________________________________________________________________________________________\n",
            "block_7_depthwise (DepthwiseCon (None, 14, 14, 384)  3456        block_7_expand_relu[0][0]        \n",
            "__________________________________________________________________________________________________\n",
            "block_7_depthwise_BN (BatchNorm (None, 14, 14, 384)  1536        block_7_depthwise[0][0]          \n",
            "__________________________________________________________________________________________________\n",
            "block_7_depthwise_relu (ReLU)   (None, 14, 14, 384)  0           block_7_depthwise_BN[0][0]       \n",
            "__________________________________________________________________________________________________\n",
            "block_7_project (Conv2D)        (None, 14, 14, 64)   24576       block_7_depthwise_relu[0][0]     \n",
            "__________________________________________________________________________________________________\n",
            "block_7_project_BN (BatchNormal (None, 14, 14, 64)   256         block_7_project[0][0]            \n",
            "__________________________________________________________________________________________________\n",
            "block_7_add (Add)               (None, 14, 14, 64)   0           block_6_project_BN[0][0]         \n",
            "                                                                 block_7_project_BN[0][0]         \n",
            "__________________________________________________________________________________________________\n",
            "block_8_expand (Conv2D)         (None, 14, 14, 384)  24576       block_7_add[0][0]                \n",
            "__________________________________________________________________________________________________\n",
            "block_8_expand_BN (BatchNormali (None, 14, 14, 384)  1536        block_8_expand[0][0]             \n",
            "__________________________________________________________________________________________________\n",
            "block_8_expand_relu (ReLU)      (None, 14, 14, 384)  0           block_8_expand_BN[0][0]          \n",
            "__________________________________________________________________________________________________\n",
            "block_8_depthwise (DepthwiseCon (None, 14, 14, 384)  3456        block_8_expand_relu[0][0]        \n",
            "__________________________________________________________________________________________________\n",
            "block_8_depthwise_BN (BatchNorm (None, 14, 14, 384)  1536        block_8_depthwise[0][0]          \n",
            "__________________________________________________________________________________________________\n",
            "block_8_depthwise_relu (ReLU)   (None, 14, 14, 384)  0           block_8_depthwise_BN[0][0]       \n",
            "__________________________________________________________________________________________________\n",
            "block_8_project (Conv2D)        (None, 14, 14, 64)   24576       block_8_depthwise_relu[0][0]     \n",
            "__________________________________________________________________________________________________\n",
            "block_8_project_BN (BatchNormal (None, 14, 14, 64)   256         block_8_project[0][0]            \n",
            "__________________________________________________________________________________________________\n",
            "block_8_add (Add)               (None, 14, 14, 64)   0           block_7_add[0][0]                \n",
            "                                                                 block_8_project_BN[0][0]         \n",
            "__________________________________________________________________________________________________\n",
            "block_9_expand (Conv2D)         (None, 14, 14, 384)  24576       block_8_add[0][0]                \n",
            "__________________________________________________________________________________________________\n",
            "block_9_expand_BN (BatchNormali (None, 14, 14, 384)  1536        block_9_expand[0][0]             \n",
            "__________________________________________________________________________________________________\n",
            "block_9_expand_relu (ReLU)      (None, 14, 14, 384)  0           block_9_expand_BN[0][0]          \n",
            "__________________________________________________________________________________________________\n",
            "block_9_depthwise (DepthwiseCon (None, 14, 14, 384)  3456        block_9_expand_relu[0][0]        \n",
            "__________________________________________________________________________________________________\n",
            "block_9_depthwise_BN (BatchNorm (None, 14, 14, 384)  1536        block_9_depthwise[0][0]          \n",
            "__________________________________________________________________________________________________\n",
            "block_9_depthwise_relu (ReLU)   (None, 14, 14, 384)  0           block_9_depthwise_BN[0][0]       \n",
            "__________________________________________________________________________________________________\n",
            "block_9_project (Conv2D)        (None, 14, 14, 64)   24576       block_9_depthwise_relu[0][0]     \n",
            "__________________________________________________________________________________________________\n",
            "block_9_project_BN (BatchNormal (None, 14, 14, 64)   256         block_9_project[0][0]            \n",
            "__________________________________________________________________________________________________\n",
            "block_9_add (Add)               (None, 14, 14, 64)   0           block_8_add[0][0]                \n",
            "                                                                 block_9_project_BN[0][0]         \n",
            "__________________________________________________________________________________________________\n",
            "block_10_expand (Conv2D)        (None, 14, 14, 384)  24576       block_9_add[0][0]                \n",
            "__________________________________________________________________________________________________\n",
            "block_10_expand_BN (BatchNormal (None, 14, 14, 384)  1536        block_10_expand[0][0]            \n",
            "__________________________________________________________________________________________________\n",
            "block_10_expand_relu (ReLU)     (None, 14, 14, 384)  0           block_10_expand_BN[0][0]         \n",
            "__________________________________________________________________________________________________\n",
            "block_10_depthwise (DepthwiseCo (None, 14, 14, 384)  3456        block_10_expand_relu[0][0]       \n",
            "__________________________________________________________________________________________________\n",
            "block_10_depthwise_BN (BatchNor (None, 14, 14, 384)  1536        block_10_depthwise[0][0]         \n",
            "__________________________________________________________________________________________________\n",
            "block_10_depthwise_relu (ReLU)  (None, 14, 14, 384)  0           block_10_depthwise_BN[0][0]      \n",
            "__________________________________________________________________________________________________\n",
            "block_10_project (Conv2D)       (None, 14, 14, 96)   36864       block_10_depthwise_relu[0][0]    \n",
            "__________________________________________________________________________________________________\n",
            "block_10_project_BN (BatchNorma (None, 14, 14, 96)   384         block_10_project[0][0]           \n",
            "__________________________________________________________________________________________________\n",
            "block_11_expand (Conv2D)        (None, 14, 14, 576)  55296       block_10_project_BN[0][0]        \n",
            "__________________________________________________________________________________________________\n",
            "block_11_expand_BN (BatchNormal (None, 14, 14, 576)  2304        block_11_expand[0][0]            \n",
            "__________________________________________________________________________________________________\n",
            "block_11_expand_relu (ReLU)     (None, 14, 14, 576)  0           block_11_expand_BN[0][0]         \n",
            "__________________________________________________________________________________________________\n",
            "block_11_depthwise (DepthwiseCo (None, 14, 14, 576)  5184        block_11_expand_relu[0][0]       \n",
            "__________________________________________________________________________________________________\n",
            "block_11_depthwise_BN (BatchNor (None, 14, 14, 576)  2304        block_11_depthwise[0][0]         \n",
            "__________________________________________________________________________________________________\n",
            "block_11_depthwise_relu (ReLU)  (None, 14, 14, 576)  0           block_11_depthwise_BN[0][0]      \n",
            "__________________________________________________________________________________________________\n",
            "block_11_project (Conv2D)       (None, 14, 14, 96)   55296       block_11_depthwise_relu[0][0]    \n",
            "__________________________________________________________________________________________________\n",
            "block_11_project_BN (BatchNorma (None, 14, 14, 96)   384         block_11_project[0][0]           \n",
            "__________________________________________________________________________________________________\n",
            "block_11_add (Add)              (None, 14, 14, 96)   0           block_10_project_BN[0][0]        \n",
            "                                                                 block_11_project_BN[0][0]        \n",
            "__________________________________________________________________________________________________\n",
            "block_12_expand (Conv2D)        (None, 14, 14, 576)  55296       block_11_add[0][0]               \n",
            "__________________________________________________________________________________________________\n",
            "block_12_expand_BN (BatchNormal (None, 14, 14, 576)  2304        block_12_expand[0][0]            \n",
            "__________________________________________________________________________________________________\n",
            "block_12_expand_relu (ReLU)     (None, 14, 14, 576)  0           block_12_expand_BN[0][0]         \n",
            "__________________________________________________________________________________________________\n",
            "block_12_depthwise (DepthwiseCo (None, 14, 14, 576)  5184        block_12_expand_relu[0][0]       \n",
            "__________________________________________________________________________________________________\n",
            "block_12_depthwise_BN (BatchNor (None, 14, 14, 576)  2304        block_12_depthwise[0][0]         \n",
            "__________________________________________________________________________________________________\n",
            "block_12_depthwise_relu (ReLU)  (None, 14, 14, 576)  0           block_12_depthwise_BN[0][0]      \n",
            "__________________________________________________________________________________________________\n",
            "block_12_project (Conv2D)       (None, 14, 14, 96)   55296       block_12_depthwise_relu[0][0]    \n",
            "__________________________________________________________________________________________________\n",
            "block_12_project_BN (BatchNorma (None, 14, 14, 96)   384         block_12_project[0][0]           \n",
            "__________________________________________________________________________________________________\n",
            "block_12_add (Add)              (None, 14, 14, 96)   0           block_11_add[0][0]               \n",
            "                                                                 block_12_project_BN[0][0]        \n",
            "__________________________________________________________________________________________________\n",
            "block_13_expand (Conv2D)        (None, 14, 14, 576)  55296       block_12_add[0][0]               \n",
            "__________________________________________________________________________________________________\n",
            "block_13_expand_BN (BatchNormal (None, 14, 14, 576)  2304        block_13_expand[0][0]            \n",
            "__________________________________________________________________________________________________\n",
            "block_13_expand_relu (ReLU)     (None, 14, 14, 576)  0           block_13_expand_BN[0][0]         \n",
            "__________________________________________________________________________________________________\n",
            "block_13_pad (ZeroPadding2D)    (None, 15, 15, 576)  0           block_13_expand_relu[0][0]       \n",
            "__________________________________________________________________________________________________\n",
            "block_13_depthwise (DepthwiseCo (None, 7, 7, 576)    5184        block_13_pad[0][0]               \n",
            "__________________________________________________________________________________________________\n",
            "block_13_depthwise_BN (BatchNor (None, 7, 7, 576)    2304        block_13_depthwise[0][0]         \n",
            "__________________________________________________________________________________________________\n",
            "block_13_depthwise_relu (ReLU)  (None, 7, 7, 576)    0           block_13_depthwise_BN[0][0]      \n",
            "__________________________________________________________________________________________________\n",
            "block_13_project (Conv2D)       (None, 7, 7, 160)    92160       block_13_depthwise_relu[0][0]    \n",
            "__________________________________________________________________________________________________\n",
            "block_13_project_BN (BatchNorma (None, 7, 7, 160)    640         block_13_project[0][0]           \n",
            "__________________________________________________________________________________________________\n",
            "block_14_expand (Conv2D)        (None, 7, 7, 960)    153600      block_13_project_BN[0][0]        \n",
            "__________________________________________________________________________________________________\n",
            "block_14_expand_BN (BatchNormal (None, 7, 7, 960)    3840        block_14_expand[0][0]            \n",
            "__________________________________________________________________________________________________\n",
            "block_14_expand_relu (ReLU)     (None, 7, 7, 960)    0           block_14_expand_BN[0][0]         \n",
            "__________________________________________________________________________________________________\n",
            "block_14_depthwise (DepthwiseCo (None, 7, 7, 960)    8640        block_14_expand_relu[0][0]       \n",
            "__________________________________________________________________________________________________\n",
            "block_14_depthwise_BN (BatchNor (None, 7, 7, 960)    3840        block_14_depthwise[0][0]         \n",
            "__________________________________________________________________________________________________\n",
            "block_14_depthwise_relu (ReLU)  (None, 7, 7, 960)    0           block_14_depthwise_BN[0][0]      \n",
            "__________________________________________________________________________________________________\n",
            "block_14_project (Conv2D)       (None, 7, 7, 160)    153600      block_14_depthwise_relu[0][0]    \n",
            "__________________________________________________________________________________________________\n",
            "block_14_project_BN (BatchNorma (None, 7, 7, 160)    640         block_14_project[0][0]           \n",
            "__________________________________________________________________________________________________\n",
            "block_14_add (Add)              (None, 7, 7, 160)    0           block_13_project_BN[0][0]        \n",
            "                                                                 block_14_project_BN[0][0]        \n",
            "__________________________________________________________________________________________________\n",
            "block_15_expand (Conv2D)        (None, 7, 7, 960)    153600      block_14_add[0][0]               \n",
            "__________________________________________________________________________________________________\n",
            "block_15_expand_BN (BatchNormal (None, 7, 7, 960)    3840        block_15_expand[0][0]            \n",
            "__________________________________________________________________________________________________\n",
            "block_15_expand_relu (ReLU)     (None, 7, 7, 960)    0           block_15_expand_BN[0][0]         \n",
            "__________________________________________________________________________________________________\n",
            "block_15_depthwise (DepthwiseCo (None, 7, 7, 960)    8640        block_15_expand_relu[0][0]       \n",
            "__________________________________________________________________________________________________\n",
            "block_15_depthwise_BN (BatchNor (None, 7, 7, 960)    3840        block_15_depthwise[0][0]         \n",
            "__________________________________________________________________________________________________\n",
            "block_15_depthwise_relu (ReLU)  (None, 7, 7, 960)    0           block_15_depthwise_BN[0][0]      \n",
            "__________________________________________________________________________________________________\n",
            "block_15_project (Conv2D)       (None, 7, 7, 160)    153600      block_15_depthwise_relu[0][0]    \n",
            "__________________________________________________________________________________________________\n",
            "block_15_project_BN (BatchNorma (None, 7, 7, 160)    640         block_15_project[0][0]           \n",
            "__________________________________________________________________________________________________\n",
            "block_15_add (Add)              (None, 7, 7, 160)    0           block_14_add[0][0]               \n",
            "                                                                 block_15_project_BN[0][0]        \n",
            "__________________________________________________________________________________________________\n",
            "block_16_expand (Conv2D)        (None, 7, 7, 960)    153600      block_15_add[0][0]               \n",
            "__________________________________________________________________________________________________\n",
            "block_16_expand_BN (BatchNormal (None, 7, 7, 960)    3840        block_16_expand[0][0]            \n",
            "__________________________________________________________________________________________________\n",
            "block_16_expand_relu (ReLU)     (None, 7, 7, 960)    0           block_16_expand_BN[0][0]         \n",
            "__________________________________________________________________________________________________\n",
            "block_16_depthwise (DepthwiseCo (None, 7, 7, 960)    8640        block_16_expand_relu[0][0]       \n",
            "__________________________________________________________________________________________________\n",
            "block_16_depthwise_BN (BatchNor (None, 7, 7, 960)    3840        block_16_depthwise[0][0]         \n",
            "__________________________________________________________________________________________________\n",
            "block_16_depthwise_relu (ReLU)  (None, 7, 7, 960)    0           block_16_depthwise_BN[0][0]      \n",
            "__________________________________________________________________________________________________\n",
            "block_16_project (Conv2D)       (None, 7, 7, 320)    307200      block_16_depthwise_relu[0][0]    \n",
            "__________________________________________________________________________________________________\n",
            "block_16_project_BN (BatchNorma (None, 7, 7, 320)    1280        block_16_project[0][0]           \n",
            "__________________________________________________________________________________________________\n",
            "Conv_1 (Conv2D)                 (None, 7, 7, 1280)   409600      block_16_project_BN[0][0]        \n",
            "__________________________________________________________________________________________________\n",
            "Conv_1_bn (BatchNormalization)  (None, 7, 7, 1280)   5120        Conv_1[0][0]                     \n",
            "__________________________________________________________________________________________________\n",
            "out_relu (ReLU)                 (None, 7, 7, 1280)   0           Conv_1_bn[0][0]                  \n",
            "__________________________________________________________________________________________________\n",
            "average_pooling2d_1 (AveragePoo (None, 1, 1, 1280)   0           out_relu[0][0]                   \n",
            "__________________________________________________________________________________________________\n",
            "flatten (Flatten)               (None, 1280)         0           average_pooling2d_1[0][0]        \n",
            "__________________________________________________________________________________________________\n",
            "dense_2 (Dense)                 (None, 128)          163968      flatten[0][0]                    \n",
            "__________________________________________________________________________________________________\n",
            "dropout_1 (Dropout)             (None, 128)          0           dense_2[0][0]                    \n",
            "__________________________________________________________________________________________________\n",
            "dense_3 (Dense)                 (None, 6)            774         dropout_1[0][0]                  \n",
            "==================================================================================================\n",
            "Total params: 2,422,726\n",
            "Trainable params: 164,742\n",
            "Non-trainable params: 2,257,984\n",
            "__________________________________________________________________________________________________\n"
          ],
          "name": "stdout"
        }
      ]
    },
    {
      "cell_type": "markdown",
      "metadata": {
        "id": "XLEHDBljaGyh",
        "colab_type": "text"
      },
      "source": [
        "# Training and plotting accuracy and loss"
      ]
    },
    {
      "cell_type": "code",
      "metadata": {
        "id": "iGR349OMTejy",
        "colab_type": "code",
        "colab": {}
      },
      "source": [
        "# plot diagnostic learning curves\n",
        "import matplotlib.pyplot as plt\n",
        "def summarize_diagnostics(hist):\n",
        "\tplt.plot(hist.history[\"accuracy\"])\n",
        "\tplt.plot(hist.history['val_accuracy'])\n",
        "\tplt.plot(hist.history['loss'])\n",
        "\tplt.plot(hist.history['val_loss'])\n",
        "\tplt.title(\"model accuracy\")\n",
        "\tplt.ylabel(\"Accuracy\")\n",
        "\tplt.xlabel(\"Epoch\")\n",
        "\tplt.legend([\"Accuracy\",\"Validation Accuracy\",\"loss\",\"Validation Loss\"])\n",
        "\tplt.show()"
      ],
      "execution_count": 10,
      "outputs": []
    },
    {
      "cell_type": "code",
      "metadata": {
        "id": "tE7Cv8uDO7FC",
        "colab_type": "code",
        "colab": {
          "base_uri": "https://localhost:8080/",
          "height": 1000
        },
        "outputId": "38043a45-7686-4166-8ce7-799acf22dbac"
      },
      "source": [
        "# run the test harness for evaluating a model\n",
        "def run_test_harness():\n",
        "\t# create data generator\n",
        "\tdatagen = ImageDataGenerator(width_shift_range=0.1, height_shift_range=0.1, horizontal_flip=True,zoom_range=0.1)\n",
        "\t# prepare iterator\n",
        "\tit_train = datagen.flow(trainX, trainY, batch_size=32)\n",
        "\t# fit model\n",
        "\tsteps = int(trainX.shape[0] / 32)\n",
        "\thist = model2.fit_generator(it_train, steps_per_epoch=steps, epochs=100, validation_data=(testX, testY), verbose=1)\n",
        "\t# evaluate model\n",
        "\t_, acc = model2.evaluate(testX, testY, verbose=1)\n",
        "\tprint('> %.3f' % (acc * 100.0))\n",
        "\t# learning curves\n",
        "\tsummarize_diagnostics(hist)\n",
        "\n",
        "# entry point, run the test harness\n",
        "run_test_harness()"
      ],
      "execution_count": 11,
      "outputs": [
        {
          "output_type": "stream",
          "text": [
            "WARNING:tensorflow:From <ipython-input-11-7d9ea2ad1d17>:9: Model.fit_generator (from tensorflow.python.keras.engine.training) is deprecated and will be removed in a future version.\n",
            "Instructions for updating:\n",
            "Please use Model.fit, which supports generators.\n",
            "Epoch 1/100\n",
            "53/53 [==============================] - 18s 340ms/step - loss: 1.7525 - accuracy: 0.3414 - val_loss: 1.2672 - val_accuracy: 0.5174\n",
            "Epoch 2/100\n",
            "53/53 [==============================] - 17s 325ms/step - loss: 1.2913 - accuracy: 0.4970 - val_loss: 1.0964 - val_accuracy: 0.5847\n",
            "Epoch 3/100\n",
            "53/53 [==============================] - 17s 324ms/step - loss: 1.1227 - accuracy: 0.5609 - val_loss: 0.9823 - val_accuracy: 0.6311\n",
            "Epoch 4/100\n",
            "53/53 [==============================] - 17s 322ms/step - loss: 1.0413 - accuracy: 0.5923 - val_loss: 0.9403 - val_accuracy: 0.6357\n",
            "Epoch 5/100\n",
            "53/53 [==============================] - 17s 324ms/step - loss: 0.9568 - accuracy: 0.6254 - val_loss: 0.8875 - val_accuracy: 0.6589\n",
            "Epoch 6/100\n",
            "53/53 [==============================] - 17s 323ms/step - loss: 0.9290 - accuracy: 0.6402 - val_loss: 0.8830 - val_accuracy: 0.6566\n",
            "Epoch 7/100\n",
            "53/53 [==============================] - 17s 327ms/step - loss: 0.8769 - accuracy: 0.6627 - val_loss: 0.8443 - val_accuracy: 0.6636\n",
            "Epoch 8/100\n",
            "53/53 [==============================] - 17s 325ms/step - loss: 0.8381 - accuracy: 0.6716 - val_loss: 0.8318 - val_accuracy: 0.6798\n",
            "Epoch 9/100\n",
            "53/53 [==============================] - 17s 323ms/step - loss: 0.8109 - accuracy: 0.6864 - val_loss: 0.8112 - val_accuracy: 0.6868\n",
            "Epoch 10/100\n",
            "53/53 [==============================] - 17s 324ms/step - loss: 0.7907 - accuracy: 0.6935 - val_loss: 0.8238 - val_accuracy: 0.6775\n",
            "Epoch 11/100\n",
            "53/53 [==============================] - 17s 327ms/step - loss: 0.7597 - accuracy: 0.7030 - val_loss: 0.7933 - val_accuracy: 0.6961\n",
            "Epoch 12/100\n",
            "53/53 [==============================] - 17s 323ms/step - loss: 0.7452 - accuracy: 0.7107 - val_loss: 0.8003 - val_accuracy: 0.6845\n",
            "Epoch 13/100\n",
            "53/53 [==============================] - 17s 323ms/step - loss: 0.7190 - accuracy: 0.7284 - val_loss: 0.7711 - val_accuracy: 0.7100\n",
            "Epoch 14/100\n",
            "53/53 [==============================] - 17s 322ms/step - loss: 0.7216 - accuracy: 0.7231 - val_loss: 0.7780 - val_accuracy: 0.7077\n",
            "Epoch 15/100\n",
            "53/53 [==============================] - 17s 323ms/step - loss: 0.7046 - accuracy: 0.7355 - val_loss: 0.7590 - val_accuracy: 0.7193\n",
            "Epoch 16/100\n",
            "53/53 [==============================] - 17s 325ms/step - loss: 0.7111 - accuracy: 0.7391 - val_loss: 0.7753 - val_accuracy: 0.7077\n",
            "Epoch 17/100\n",
            "53/53 [==============================] - 17s 328ms/step - loss: 0.6736 - accuracy: 0.7462 - val_loss: 0.7676 - val_accuracy: 0.7053\n",
            "Epoch 18/100\n",
            "53/53 [==============================] - 17s 324ms/step - loss: 0.6473 - accuracy: 0.7621 - val_loss: 0.7608 - val_accuracy: 0.7053\n",
            "Epoch 19/100\n",
            "53/53 [==============================] - 17s 321ms/step - loss: 0.6390 - accuracy: 0.7568 - val_loss: 0.7543 - val_accuracy: 0.7100\n",
            "Epoch 20/100\n",
            "53/53 [==============================] - 17s 322ms/step - loss: 0.6307 - accuracy: 0.7698 - val_loss: 0.7497 - val_accuracy: 0.7123\n",
            "Epoch 21/100\n",
            "53/53 [==============================] - 17s 322ms/step - loss: 0.6335 - accuracy: 0.7568 - val_loss: 0.7698 - val_accuracy: 0.6984\n",
            "Epoch 22/100\n",
            "53/53 [==============================] - 17s 321ms/step - loss: 0.6153 - accuracy: 0.7663 - val_loss: 0.7514 - val_accuracy: 0.7007\n",
            "Epoch 23/100\n",
            "53/53 [==============================] - 17s 320ms/step - loss: 0.6047 - accuracy: 0.7716 - val_loss: 0.7785 - val_accuracy: 0.7100\n",
            "Epoch 24/100\n",
            "53/53 [==============================] - 17s 321ms/step - loss: 0.6023 - accuracy: 0.7787 - val_loss: 0.7526 - val_accuracy: 0.7053\n",
            "Epoch 25/100\n",
            "53/53 [==============================] - 17s 324ms/step - loss: 0.5811 - accuracy: 0.7817 - val_loss: 0.7224 - val_accuracy: 0.7285\n",
            "Epoch 26/100\n",
            "53/53 [==============================] - 17s 322ms/step - loss: 0.5608 - accuracy: 0.7929 - val_loss: 0.7177 - val_accuracy: 0.7216\n",
            "Epoch 27/100\n",
            "53/53 [==============================] - 17s 320ms/step - loss: 0.5655 - accuracy: 0.7941 - val_loss: 0.7449 - val_accuracy: 0.7100\n",
            "Epoch 28/100\n",
            "53/53 [==============================] - 17s 322ms/step - loss: 0.5558 - accuracy: 0.8024 - val_loss: 0.7521 - val_accuracy: 0.7169\n",
            "Epoch 29/100\n",
            "53/53 [==============================] - 17s 321ms/step - loss: 0.5650 - accuracy: 0.7858 - val_loss: 0.7322 - val_accuracy: 0.7123\n",
            "Epoch 30/100\n",
            "53/53 [==============================] - 17s 319ms/step - loss: 0.5270 - accuracy: 0.8018 - val_loss: 0.7284 - val_accuracy: 0.7216\n",
            "Epoch 31/100\n",
            "53/53 [==============================] - 17s 321ms/step - loss: 0.5312 - accuracy: 0.8201 - val_loss: 0.7101 - val_accuracy: 0.7285\n",
            "Epoch 32/100\n",
            "53/53 [==============================] - 17s 322ms/step - loss: 0.5513 - accuracy: 0.7888 - val_loss: 0.7151 - val_accuracy: 0.7216\n",
            "Epoch 33/100\n",
            "53/53 [==============================] - 17s 320ms/step - loss: 0.5277 - accuracy: 0.8000 - val_loss: 0.7171 - val_accuracy: 0.7169\n",
            "Epoch 34/100\n",
            "53/53 [==============================] - 17s 326ms/step - loss: 0.5296 - accuracy: 0.8130 - val_loss: 0.7330 - val_accuracy: 0.7146\n",
            "Epoch 35/100\n",
            "53/53 [==============================] - 17s 323ms/step - loss: 0.5144 - accuracy: 0.8142 - val_loss: 0.7286 - val_accuracy: 0.7216\n",
            "Epoch 36/100\n",
            "53/53 [==============================] - 17s 320ms/step - loss: 0.5067 - accuracy: 0.8136 - val_loss: 0.7304 - val_accuracy: 0.7193\n",
            "Epoch 37/100\n",
            "53/53 [==============================] - 17s 319ms/step - loss: 0.4948 - accuracy: 0.8183 - val_loss: 0.7304 - val_accuracy: 0.7332\n",
            "Epoch 38/100\n",
            "53/53 [==============================] - 17s 322ms/step - loss: 0.4790 - accuracy: 0.8260 - val_loss: 0.7210 - val_accuracy: 0.7262\n",
            "Epoch 39/100\n",
            "53/53 [==============================] - 17s 322ms/step - loss: 0.4696 - accuracy: 0.8243 - val_loss: 0.7137 - val_accuracy: 0.7309\n",
            "Epoch 40/100\n",
            "53/53 [==============================] - 17s 318ms/step - loss: 0.4744 - accuracy: 0.8272 - val_loss: 0.7045 - val_accuracy: 0.7448\n",
            "Epoch 41/100\n",
            "53/53 [==============================] - 17s 321ms/step - loss: 0.4609 - accuracy: 0.8249 - val_loss: 0.7231 - val_accuracy: 0.7332\n",
            "Epoch 42/100\n",
            "53/53 [==============================] - 17s 319ms/step - loss: 0.4614 - accuracy: 0.8325 - val_loss: 0.7205 - val_accuracy: 0.7309\n",
            "Epoch 43/100\n",
            "53/53 [==============================] - 17s 317ms/step - loss: 0.4541 - accuracy: 0.8414 - val_loss: 0.7100 - val_accuracy: 0.7332\n",
            "Epoch 44/100\n",
            "53/53 [==============================] - 17s 319ms/step - loss: 0.4385 - accuracy: 0.8420 - val_loss: 0.6876 - val_accuracy: 0.7401\n",
            "Epoch 45/100\n",
            "53/53 [==============================] - 17s 318ms/step - loss: 0.4490 - accuracy: 0.8349 - val_loss: 0.7050 - val_accuracy: 0.7401\n",
            "Epoch 46/100\n",
            "53/53 [==============================] - 17s 316ms/step - loss: 0.4363 - accuracy: 0.8355 - val_loss: 0.7061 - val_accuracy: 0.7378\n",
            "Epoch 47/100\n",
            "53/53 [==============================] - 17s 315ms/step - loss: 0.4251 - accuracy: 0.8485 - val_loss: 0.7187 - val_accuracy: 0.7262\n",
            "Epoch 48/100\n",
            "53/53 [==============================] - 17s 318ms/step - loss: 0.4400 - accuracy: 0.8402 - val_loss: 0.6970 - val_accuracy: 0.7425\n",
            "Epoch 49/100\n",
            "53/53 [==============================] - 17s 315ms/step - loss: 0.4056 - accuracy: 0.8615 - val_loss: 0.7161 - val_accuracy: 0.7378\n",
            "Epoch 50/100\n",
            "53/53 [==============================] - 17s 315ms/step - loss: 0.4118 - accuracy: 0.8556 - val_loss: 0.6910 - val_accuracy: 0.7494\n",
            "Epoch 51/100\n",
            "53/53 [==============================] - 17s 317ms/step - loss: 0.4115 - accuracy: 0.8561 - val_loss: 0.6951 - val_accuracy: 0.7541\n",
            "Epoch 52/100\n",
            "53/53 [==============================] - 17s 318ms/step - loss: 0.4205 - accuracy: 0.8420 - val_loss: 0.6954 - val_accuracy: 0.7517\n",
            "Epoch 53/100\n",
            "53/53 [==============================] - 17s 322ms/step - loss: 0.3933 - accuracy: 0.8675 - val_loss: 0.7030 - val_accuracy: 0.7425\n",
            "Epoch 54/100\n",
            "53/53 [==============================] - 17s 317ms/step - loss: 0.3911 - accuracy: 0.8621 - val_loss: 0.7147 - val_accuracy: 0.7239\n",
            "Epoch 55/100\n",
            "53/53 [==============================] - 17s 317ms/step - loss: 0.3847 - accuracy: 0.8651 - val_loss: 0.6848 - val_accuracy: 0.7494\n",
            "Epoch 56/100\n",
            "53/53 [==============================] - 17s 318ms/step - loss: 0.3625 - accuracy: 0.8799 - val_loss: 0.6932 - val_accuracy: 0.7494\n",
            "Epoch 57/100\n",
            "53/53 [==============================] - 17s 318ms/step - loss: 0.3883 - accuracy: 0.8651 - val_loss: 0.7065 - val_accuracy: 0.7355\n",
            "Epoch 58/100\n",
            "53/53 [==============================] - 17s 317ms/step - loss: 0.3754 - accuracy: 0.8645 - val_loss: 0.7016 - val_accuracy: 0.7378\n",
            "Epoch 59/100\n",
            "53/53 [==============================] - 17s 315ms/step - loss: 0.3624 - accuracy: 0.8651 - val_loss: 0.6859 - val_accuracy: 0.7633\n",
            "Epoch 60/100\n",
            "53/53 [==============================] - 17s 315ms/step - loss: 0.3637 - accuracy: 0.8793 - val_loss: 0.6976 - val_accuracy: 0.7471\n",
            "Epoch 61/100\n",
            "53/53 [==============================] - 17s 315ms/step - loss: 0.3588 - accuracy: 0.8781 - val_loss: 0.7092 - val_accuracy: 0.7401\n",
            "Epoch 62/100\n",
            "53/53 [==============================] - 17s 319ms/step - loss: 0.3372 - accuracy: 0.8893 - val_loss: 0.7120 - val_accuracy: 0.7355\n",
            "Epoch 63/100\n",
            "53/53 [==============================] - 17s 316ms/step - loss: 0.3460 - accuracy: 0.8787 - val_loss: 0.7034 - val_accuracy: 0.7448\n",
            "Epoch 64/100\n",
            "53/53 [==============================] - 17s 317ms/step - loss: 0.3520 - accuracy: 0.8769 - val_loss: 0.7117 - val_accuracy: 0.7401\n",
            "Epoch 65/100\n",
            "53/53 [==============================] - 17s 316ms/step - loss: 0.3461 - accuracy: 0.8858 - val_loss: 0.6832 - val_accuracy: 0.7587\n",
            "Epoch 66/100\n",
            "53/53 [==============================] - 17s 314ms/step - loss: 0.3447 - accuracy: 0.8793 - val_loss: 0.6726 - val_accuracy: 0.7633\n",
            "Epoch 67/100\n",
            "53/53 [==============================] - 17s 318ms/step - loss: 0.3407 - accuracy: 0.8769 - val_loss: 0.6953 - val_accuracy: 0.7541\n",
            "Epoch 68/100\n",
            "53/53 [==============================] - 17s 315ms/step - loss: 0.3421 - accuracy: 0.8805 - val_loss: 0.6727 - val_accuracy: 0.7633\n",
            "Epoch 69/100\n",
            "53/53 [==============================] - 17s 317ms/step - loss: 0.3133 - accuracy: 0.8959 - val_loss: 0.6981 - val_accuracy: 0.7541\n",
            "Epoch 70/100\n",
            "53/53 [==============================] - 17s 316ms/step - loss: 0.3114 - accuracy: 0.8982 - val_loss: 0.7015 - val_accuracy: 0.7471\n",
            "Epoch 71/100\n",
            "53/53 [==============================] - 17s 319ms/step - loss: 0.3126 - accuracy: 0.8888 - val_loss: 0.7072 - val_accuracy: 0.7448\n",
            "Epoch 72/100\n",
            "53/53 [==============================] - 17s 316ms/step - loss: 0.3079 - accuracy: 0.8982 - val_loss: 0.7046 - val_accuracy: 0.7517\n",
            "Epoch 73/100\n",
            "53/53 [==============================] - 17s 317ms/step - loss: 0.3208 - accuracy: 0.8959 - val_loss: 0.6796 - val_accuracy: 0.7610\n",
            "Epoch 74/100\n",
            "53/53 [==============================] - 17s 315ms/step - loss: 0.3061 - accuracy: 0.8970 - val_loss: 0.6913 - val_accuracy: 0.7633\n",
            "Epoch 75/100\n",
            "53/53 [==============================] - 17s 314ms/step - loss: 0.3099 - accuracy: 0.8911 - val_loss: 0.7020 - val_accuracy: 0.7448\n",
            "Epoch 76/100\n",
            "53/53 [==============================] - 17s 316ms/step - loss: 0.2972 - accuracy: 0.8923 - val_loss: 0.6940 - val_accuracy: 0.7541\n",
            "Epoch 77/100\n",
            "53/53 [==============================] - 17s 317ms/step - loss: 0.2935 - accuracy: 0.8970 - val_loss: 0.6758 - val_accuracy: 0.7796\n",
            "Epoch 78/100\n",
            "53/53 [==============================] - 17s 315ms/step - loss: 0.2956 - accuracy: 0.9000 - val_loss: 0.7191 - val_accuracy: 0.7541\n",
            "Epoch 79/100\n",
            "53/53 [==============================] - 17s 315ms/step - loss: 0.3030 - accuracy: 0.8923 - val_loss: 0.7301 - val_accuracy: 0.7471\n",
            "Epoch 80/100\n",
            "53/53 [==============================] - 17s 315ms/step - loss: 0.2979 - accuracy: 0.8994 - val_loss: 0.6897 - val_accuracy: 0.7680\n",
            "Epoch 81/100\n",
            "53/53 [==============================] - 17s 316ms/step - loss: 0.2758 - accuracy: 0.9142 - val_loss: 0.6965 - val_accuracy: 0.7517\n",
            "Epoch 82/100\n",
            "53/53 [==============================] - 17s 314ms/step - loss: 0.2857 - accuracy: 0.9053 - val_loss: 0.7321 - val_accuracy: 0.7494\n",
            "Epoch 83/100\n",
            "53/53 [==============================] - 17s 316ms/step - loss: 0.2769 - accuracy: 0.9089 - val_loss: 0.7066 - val_accuracy: 0.7564\n",
            "Epoch 84/100\n",
            "53/53 [==============================] - 17s 315ms/step - loss: 0.2802 - accuracy: 0.8994 - val_loss: 0.6936 - val_accuracy: 0.7633\n",
            "Epoch 85/100\n",
            "53/53 [==============================] - 17s 316ms/step - loss: 0.2677 - accuracy: 0.9172 - val_loss: 0.6824 - val_accuracy: 0.7610\n",
            "Epoch 86/100\n",
            "53/53 [==============================] - 17s 318ms/step - loss: 0.2776 - accuracy: 0.9053 - val_loss: 0.6871 - val_accuracy: 0.7610\n",
            "Epoch 87/100\n",
            "53/53 [==============================] - 17s 316ms/step - loss: 0.2531 - accuracy: 0.9172 - val_loss: 0.6952 - val_accuracy: 0.7610\n",
            "Epoch 88/100\n",
            "53/53 [==============================] - 17s 319ms/step - loss: 0.2777 - accuracy: 0.9089 - val_loss: 0.6988 - val_accuracy: 0.7494\n",
            "Epoch 89/100\n",
            "53/53 [==============================] - 17s 320ms/step - loss: 0.2613 - accuracy: 0.9166 - val_loss: 0.7182 - val_accuracy: 0.7517\n",
            "Epoch 90/100\n",
            "53/53 [==============================] - 17s 317ms/step - loss: 0.2611 - accuracy: 0.9124 - val_loss: 0.7156 - val_accuracy: 0.7401\n",
            "Epoch 91/100\n",
            "53/53 [==============================] - 17s 317ms/step - loss: 0.2619 - accuracy: 0.9166 - val_loss: 0.6967 - val_accuracy: 0.7564\n",
            "Epoch 92/100\n",
            "53/53 [==============================] - 17s 317ms/step - loss: 0.2551 - accuracy: 0.9112 - val_loss: 0.7445 - val_accuracy: 0.7425\n",
            "Epoch 93/100\n",
            "53/53 [==============================] - 17s 315ms/step - loss: 0.2538 - accuracy: 0.9154 - val_loss: 0.7012 - val_accuracy: 0.7471\n",
            "Epoch 94/100\n",
            "53/53 [==============================] - 17s 315ms/step - loss: 0.2422 - accuracy: 0.9210 - val_loss: 0.7090 - val_accuracy: 0.7587\n",
            "Epoch 95/100\n",
            "53/53 [==============================] - 17s 316ms/step - loss: 0.2434 - accuracy: 0.9195 - val_loss: 0.6927 - val_accuracy: 0.7564\n",
            "Epoch 96/100\n",
            "53/53 [==============================] - 17s 312ms/step - loss: 0.2408 - accuracy: 0.9213 - val_loss: 0.7129 - val_accuracy: 0.7541\n",
            "Epoch 97/100\n",
            "53/53 [==============================] - 17s 312ms/step - loss: 0.2468 - accuracy: 0.9225 - val_loss: 0.6961 - val_accuracy: 0.7517\n",
            "Epoch 98/100\n",
            "53/53 [==============================] - 17s 312ms/step - loss: 0.2370 - accuracy: 0.9331 - val_loss: 0.7287 - val_accuracy: 0.7564\n",
            "Epoch 99/100\n",
            "53/53 [==============================] - 17s 312ms/step - loss: 0.2284 - accuracy: 0.9243 - val_loss: 0.6958 - val_accuracy: 0.7726\n",
            "Epoch 100/100\n",
            "53/53 [==============================] - 17s 314ms/step - loss: 0.2208 - accuracy: 0.9290 - val_loss: 0.7323 - val_accuracy: 0.7587\n"
          ],
          "name": "stdout"
        },
        {
          "output_type": "error",
          "ename": "NameError",
          "evalue": "ignored",
          "traceback": [
            "\u001b[0;31m---------------------------------------------------------------------------\u001b[0m",
            "\u001b[0;31mNameError\u001b[0m                                 Traceback (most recent call last)",
            "\u001b[0;32m<ipython-input-11-7d9ea2ad1d17>\u001b[0m in \u001b[0;36m<module>\u001b[0;34m()\u001b[0m\n\u001b[1;32m     15\u001b[0m \u001b[0;34m\u001b[0m\u001b[0m\n\u001b[1;32m     16\u001b[0m \u001b[0;31m# entry point, run the test harness\u001b[0m\u001b[0;34m\u001b[0m\u001b[0;34m\u001b[0m\u001b[0;34m\u001b[0m\u001b[0m\n\u001b[0;32m---> 17\u001b[0;31m \u001b[0mrun_test_harness\u001b[0m\u001b[0;34m(\u001b[0m\u001b[0;34m)\u001b[0m\u001b[0;34m\u001b[0m\u001b[0;34m\u001b[0m\u001b[0m\n\u001b[0m",
            "\u001b[0;32m<ipython-input-11-7d9ea2ad1d17>\u001b[0m in \u001b[0;36mrun_test_harness\u001b[0;34m()\u001b[0m\n\u001b[1;32m      9\u001b[0m         \u001b[0mhist\u001b[0m \u001b[0;34m=\u001b[0m \u001b[0mmodel2\u001b[0m\u001b[0;34m.\u001b[0m\u001b[0mfit_generator\u001b[0m\u001b[0;34m(\u001b[0m\u001b[0mit_train\u001b[0m\u001b[0;34m,\u001b[0m \u001b[0msteps_per_epoch\u001b[0m\u001b[0;34m=\u001b[0m\u001b[0msteps\u001b[0m\u001b[0;34m,\u001b[0m \u001b[0mepochs\u001b[0m\u001b[0;34m=\u001b[0m\u001b[0;36m100\u001b[0m\u001b[0;34m,\u001b[0m \u001b[0mvalidation_data\u001b[0m\u001b[0;34m=\u001b[0m\u001b[0;34m(\u001b[0m\u001b[0mtestX\u001b[0m\u001b[0;34m,\u001b[0m \u001b[0mtestY\u001b[0m\u001b[0;34m)\u001b[0m\u001b[0;34m,\u001b[0m \u001b[0mverbose\u001b[0m\u001b[0;34m=\u001b[0m\u001b[0;36m1\u001b[0m\u001b[0;34m)\u001b[0m\u001b[0;34m\u001b[0m\u001b[0;34m\u001b[0m\u001b[0m\n\u001b[1;32m     10\u001b[0m         \u001b[0;31m# evaluate model\u001b[0m\u001b[0;34m\u001b[0m\u001b[0;34m\u001b[0m\u001b[0;34m\u001b[0m\u001b[0m\n\u001b[0;32m---> 11\u001b[0;31m         \u001b[0m_\u001b[0m\u001b[0;34m,\u001b[0m \u001b[0macc\u001b[0m \u001b[0;34m=\u001b[0m \u001b[0mmodel\u001b[0m\u001b[0;34m.\u001b[0m\u001b[0mevaluate\u001b[0m\u001b[0;34m(\u001b[0m\u001b[0mtestX\u001b[0m\u001b[0;34m,\u001b[0m \u001b[0mtestY\u001b[0m\u001b[0;34m,\u001b[0m \u001b[0mverbose\u001b[0m\u001b[0;34m=\u001b[0m\u001b[0;36m1\u001b[0m\u001b[0;34m)\u001b[0m\u001b[0;34m\u001b[0m\u001b[0;34m\u001b[0m\u001b[0m\n\u001b[0m\u001b[1;32m     12\u001b[0m         \u001b[0mprint\u001b[0m\u001b[0;34m(\u001b[0m\u001b[0;34m'> %.3f'\u001b[0m \u001b[0;34m%\u001b[0m \u001b[0;34m(\u001b[0m\u001b[0macc\u001b[0m \u001b[0;34m*\u001b[0m \u001b[0;36m100.0\u001b[0m\u001b[0;34m)\u001b[0m\u001b[0;34m)\u001b[0m\u001b[0;34m\u001b[0m\u001b[0;34m\u001b[0m\u001b[0m\n\u001b[1;32m     13\u001b[0m         \u001b[0;31m# learning curves\u001b[0m\u001b[0;34m\u001b[0m\u001b[0;34m\u001b[0m\u001b[0;34m\u001b[0m\u001b[0m\n",
            "\u001b[0;31mNameError\u001b[0m: name 'model' is not defined"
          ]
        }
      ]
    },
    {
      "cell_type": "markdown",
      "metadata": {
        "id": "LrCrAdqLbnEJ",
        "colab_type": "text"
      },
      "source": [
        "# Confusion matrix and classification report"
      ]
    },
    {
      "cell_type": "code",
      "metadata": {
        "id": "-ZIcyPJCRvKr",
        "colab_type": "code",
        "colab": {
          "base_uri": "https://localhost:8080/",
          "height": 119
        },
        "outputId": "9b261e35-94a7-4851-e1f7-b3d33f55ae05"
      },
      "source": [
        "from sklearn.metrics import confusion_matrix,classification_report\n",
        "y_pred = model2.predict(testX)\n",
        "y_p = np.argmax(y_pred,axis=1)\n",
        "y_true = np.argmax(testY,axis=1)\n",
        "print(confusion_matrix(y_true,y_p))"
      ],
      "execution_count": 12,
      "outputs": [
        {
          "output_type": "stream",
          "text": [
            "[[30  0  0  0  0  0]\n",
            " [ 0 51 19 22  6  0]\n",
            " [ 0  9 64  6  1  0]\n",
            " [ 0  3  7 56  4  0]\n",
            " [ 0  5 13  9 31  0]\n",
            " [ 0  0  0  0  0 95]]\n"
          ],
          "name": "stdout"
        }
      ]
    },
    {
      "cell_type": "code",
      "metadata": {
        "id": "7wyE6tMx-3ia",
        "colab_type": "code",
        "colab": {
          "base_uri": "https://localhost:8080/",
          "height": 255
        },
        "outputId": "16cead34-5ef1-4d0a-88e1-1d506c3e457c"
      },
      "source": [
        "print('Classification report')\n",
        "print(classification_report(y_true,y_p))"
      ],
      "execution_count": 13,
      "outputs": [
        {
          "output_type": "stream",
          "text": [
            "Classification report\n",
            "              precision    recall  f1-score   support\n",
            "\n",
            "           0       1.00      1.00      1.00        30\n",
            "           1       0.75      0.52      0.61        98\n",
            "           2       0.62      0.80      0.70        80\n",
            "           3       0.60      0.80      0.69        70\n",
            "           4       0.74      0.53      0.62        58\n",
            "           5       1.00      1.00      1.00        95\n",
            "\n",
            "    accuracy                           0.76       431\n",
            "   macro avg       0.79      0.78      0.77       431\n",
            "weighted avg       0.77      0.76      0.75       431\n",
            "\n"
          ],
          "name": "stdout"
        }
      ]
    },
    {
      "cell_type": "markdown",
      "metadata": {
        "id": "Vx_GKtX4bxlV",
        "colab_type": "text"
      },
      "source": [
        "# CNN + SVM"
      ]
    },
    {
      "cell_type": "code",
      "metadata": {
        "id": "YqXbyvhF5hdk",
        "colab_type": "code",
        "colab": {}
      },
      "source": [
        "from sklearn.preprocessing import StandardScaler\n",
        "sc = StandardScaler()\n",
        "# extracting features using Transfer Learning\n",
        "model_new = Model(inputs = model2.input,outputs = model2.get_layer('dense_2').output) \n",
        "train_new = sc.fit_transform(model_new.predict(trainX))\n",
        "test_new = sc.fit_transform(model_new.predict(testX))"
      ],
      "execution_count": 19,
      "outputs": []
    },
    {
      "cell_type": "code",
      "metadata": {
        "id": "EiLZAB909UhM",
        "colab_type": "code",
        "colab": {
          "base_uri": "https://localhost:8080/",
          "height": 51
        },
        "outputId": "4674daff-d63f-4c0f-e00b-4fe2214739be"
      },
      "source": [
        "\n",
        "from sklearn.svm import SVC\n",
        "svm = SVC(kernel='rbf')\n",
        "svm.fit(train_new,np.argmax(trainY,axis=1))\n",
        "sc1 = svm.score(train_new,np.argmax(trainY,axis=1))\n",
        "sc2 = svm.score(test_new,np.argmax(testY,axis=1))\n",
        "print('training accuracy of svm is : ',sc1)\n",
        "print('testing accuracy of svm is : ',sc2)"
      ],
      "execution_count": 20,
      "outputs": [
        {
          "output_type": "stream",
          "text": [
            "training accuracy of svm is :  0.9883855981416957\n",
            "testing accuracy of svm is :  0.8004640371229699\n"
          ],
          "name": "stdout"
        }
      ]
    },
    {
      "cell_type": "markdown",
      "metadata": {
        "id": "YcRUtRROb4ni",
        "colab_type": "text"
      },
      "source": [
        "# CNN + XGBOOST\n"
      ]
    },
    {
      "cell_type": "code",
      "metadata": {
        "id": "jpYvIb-9ZAiY",
        "colab_type": "code",
        "colab": {
          "base_uri": "https://localhost:8080/",
          "height": 51
        },
        "outputId": "62b91cdd-6bcd-4ad6-adfa-c48b4918bcb6"
      },
      "source": [
        "from xgboost import XGBClassifier\n",
        "xg = XGBClassifier()\n",
        "xg.fit(train_new,np.argmax(trainY,axis=1))\n",
        "sc3 = xg.score(train_new,np.argmax(trainY,axis=1))\n",
        "sc4 = xg.score(test_new,np.argmax(testY,axis=1))\n",
        "print('training accuracy of xgboost is : ',sc3)\n",
        "print('testing accuracy of xgboost is : ',sc4)"
      ],
      "execution_count": 21,
      "outputs": [
        {
          "output_type": "stream",
          "text": [
            "training accuracy of xgboost is :  0.9988385598141696\n",
            "testing accuracy of xgboost is :  0.7842227378190255\n"
          ],
          "name": "stdout"
        }
      ]
    }
  ]
}