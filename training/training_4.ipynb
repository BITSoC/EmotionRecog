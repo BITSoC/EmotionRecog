{
  "nbformat": 4,
  "nbformat_minor": 0,
  "metadata": {
    "colab": {
      "name": "training 4.ipynb",
      "provenance": [],
      "include_colab_link": true
    },
    "kernelspec": {
      "name": "python3",
      "display_name": "Python 3"
    },
    "accelerator": "GPU"
  },
  "cells": [
    {
      "cell_type": "markdown",
      "metadata": {
        "id": "view-in-github",
        "colab_type": "text"
      },
      "source": [
        "<a href=\"https://colab.research.google.com/github/harry418/EmotionRecog/blob/master/training/training_4.ipynb\" target=\"_parent\"><img src=\"https://colab.research.google.com/assets/colab-badge.svg\" alt=\"Open In Colab\"/></a>"
      ]
    },
    {
      "cell_type": "code",
      "metadata": {
        "id": "UBtcvhCzIKcM",
        "colab_type": "code",
        "colab": {
          "base_uri": "https://localhost:8080/",
          "height": 122
        },
        "outputId": "4bb62f24-1cc3-489d-899b-08d801eb3615"
      },
      "source": [
        "from google.colab import drive\n",
        "drive.mount('/content/gdrive',force_remount=True)"
      ],
      "execution_count": 1,
      "outputs": [
        {
          "output_type": "stream",
          "text": [
            "Go to this URL in a browser: https://accounts.google.com/o/oauth2/auth?client_id=947318989803-6bn6qk8qdgf4n4g3pfee6491hc0brc4i.apps.googleusercontent.com&redirect_uri=urn%3aietf%3awg%3aoauth%3a2.0%3aoob&scope=email%20https%3a%2f%2fwww.googleapis.com%2fauth%2fdocs.test%20https%3a%2f%2fwww.googleapis.com%2fauth%2fdrive%20https%3a%2f%2fwww.googleapis.com%2fauth%2fdrive.photos.readonly%20https%3a%2f%2fwww.googleapis.com%2fauth%2fpeopleapi.readonly&response_type=code\n",
            "\n",
            "Enter your authorization code:\n",
            "··········\n",
            "Mounted at /content/gdrive\n"
          ],
          "name": "stdout"
        }
      ]
    },
    {
      "cell_type": "markdown",
      "metadata": {
        "id": "i0JR5MZ8ZdCd",
        "colab_type": "text"
      },
      "source": [
        "# Imported importanat libraries"
      ]
    },
    {
      "cell_type": "code",
      "metadata": {
        "id": "H3pMDg6ITM-I",
        "colab_type": "code",
        "colab": {}
      },
      "source": [
        "# baseline model with dropout and data augmentation on the cifar10 dataset\n",
        "import sys\n",
        "import tensorflow\n",
        "from matplotlib import pyplot\n",
        "from tensorflow.keras.utils import to_categorical\n",
        "from tensorflow.keras.models import Sequential,Model\n",
        "from tensorflow.keras.layers import Conv2D,MaxPooling2D,Dense,Flatten,Dropout,BatchNormalization,AveragePooling2D\n",
        "from tensorflow.keras.optimizers import SGD,Adam\n",
        "from tensorflow.keras.preprocessing.image import ImageDataGenerator\n",
        "from sklearn.model_selection import train_test_split\n",
        "from tensorflow.keras.preprocessing.image import img_to_array\n",
        "from tensorflow.keras.preprocessing.image import load_img\n",
        "from imutils import paths\n",
        "import matplotlib.pyplot as plt\n",
        "import numpy as np\n",
        "import random\n",
        "import os\n",
        "from sklearn.preprocessing import LabelEncoder\n",
        "from tensorflow.keras.layers import Input"
      ],
      "execution_count": 2,
      "outputs": []
    },
    {
      "cell_type": "markdown",
      "metadata": {
        "id": "M41fO_omZjwz",
        "colab_type": "text"
      },
      "source": [
        "# load preprocessed data\n"
      ]
    },
    {
      "cell_type": "code",
      "metadata": {
        "id": "d4Uyx78x_hdz",
        "colab_type": "code",
        "colab": {}
      },
      "source": [
        "# storing preprocessed images and labels for further use\n",
        "data = np.load('/content/gdrive/My Drive/emotion_recog/data.npy')\n",
        "labels_value  = np.load('/content/gdrive/My Drive/emotion_recog/labels_value.npy')"
      ],
      "execution_count": 3,
      "outputs": []
    },
    {
      "cell_type": "markdown",
      "metadata": {
        "id": "4GqGkNLAZrS2",
        "colab_type": "text"
      },
      "source": [
        "# train and test splitting with sklearn\n"
      ]
    },
    {
      "cell_type": "code",
      "metadata": {
        "id": "8ZIwxrwYq2ZI",
        "colab_type": "code",
        "colab": {}
      },
      "source": [
        "trainX, testX,trainY, testY = train_test_split(data, labels_value,test_size=0.2, random_state=42,shuffle = True)"
      ],
      "execution_count": 4,
      "outputs": []
    },
    {
      "cell_type": "markdown",
      "metadata": {
        "id": "XLEHDBljaGyh",
        "colab_type": "text"
      },
      "source": [
        "# Training and plotting accuracy and loss"
      ]
    },
    {
      "cell_type": "code",
      "metadata": {
        "id": "iGR349OMTejy",
        "colab_type": "code",
        "colab": {}
      },
      "source": [
        "# plot diagnostic learning curves\n",
        "import matplotlib.pyplot as plt\n",
        "def summarize_diagnostics(hist):\n",
        "\tplt.plot(hist.history[\"accuracy\"])\n",
        "\tplt.plot(hist.history['val_accuracy'])\n",
        "\tplt.plot(hist.history['loss'])\n",
        "\tplt.plot(hist.history['val_loss'])\n",
        "\tplt.title(\"model accuracy\")\n",
        "\tplt.ylabel(\"Accuracy\")\n",
        "\tplt.xlabel(\"Epoch\")\n",
        "\tplt.legend([\"Accuracy\",\"Validation Accuracy\",\"loss\",\"Validation Loss\"])\n",
        "\tplt.show()"
      ],
      "execution_count": 5,
      "outputs": []
    },
    {
      "cell_type": "code",
      "metadata": {
        "id": "PaGO947yNv_o",
        "colab_type": "code",
        "colab": {
          "base_uri": "https://localhost:8080/",
          "height": 34
        },
        "outputId": "5513ece6-6143-4f06-ade4-a6245fea6312"
      },
      "source": [
        "from keras.applications.vgg16 import VGG16\n",
        "from keras.preprocessing import image\n",
        "from keras.layers import GlobalAveragePooling2D\n",
        "\n",
        "inp = Input(shape = (224,224,3))\n",
        "\n",
        "model_mobile = VGG16(input_shape=(224,224,3), include_top=False, weights='imagenet')\n",
        "x1 = model_mobile(inp)\n",
        "x2 = GlobalAveragePooling2D()(x1)\n",
        "#x3 = Dense(128,activation='relu')(x2)\n",
        "out = Dense(6, activation='softmax')(x2)\n",
        "\n",
        "INIT_LR = 1e-4\n",
        "print(\"[INFO] compiling model...\")\n",
        "opt = Adam(lr=INIT_LR, decay=INIT_LR /100)\n",
        "model = Model(inputs = inp, outputs = out)\n",
        "\n",
        "model.compile(optimizer=opt, loss='categorical_crossentropy', metrics=['accuracy'])"
      ],
      "execution_count": 10,
      "outputs": [
        {
          "output_type": "stream",
          "text": [
            "[INFO] compiling model...\n"
          ],
          "name": "stdout"
        }
      ]
    },
    {
      "cell_type": "code",
      "metadata": {
        "id": "R7zvcZB1oNDi",
        "colab_type": "code",
        "colab": {
          "base_uri": "https://localhost:8080/",
          "height": 289
        },
        "outputId": "1f888554-6111-43ea-bc58-899952873cde"
      },
      "source": [
        "model.summary()"
      ],
      "execution_count": 11,
      "outputs": [
        {
          "output_type": "stream",
          "text": [
            "Model: \"functional_5\"\n",
            "_________________________________________________________________\n",
            "Layer (type)                 Output Shape              Param #   \n",
            "=================================================================\n",
            "input_7 (InputLayer)         [(None, 224, 224, 3)]     0         \n",
            "_________________________________________________________________\n",
            "vgg16 (Functional)           (None, 7, 7, 512)         14714688  \n",
            "_________________________________________________________________\n",
            "global_average_pooling2d_3 ( (None, 512)               0         \n",
            "_________________________________________________________________\n",
            "dense_6 (Dense)              (None, 6)                 3078      \n",
            "=================================================================\n",
            "Total params: 14,717,766\n",
            "Trainable params: 14,717,766\n",
            "Non-trainable params: 0\n",
            "_________________________________________________________________\n"
          ],
          "name": "stdout"
        }
      ]
    },
    {
      "cell_type": "code",
      "metadata": {
        "id": "uI742reim40S",
        "colab_type": "code",
        "colab": {}
      },
      "source": [
        "# batch size and epochs\n",
        "EPOCHS = 100\n",
        "BS = 32"
      ],
      "execution_count": 12,
      "outputs": []
    },
    {
      "cell_type": "code",
      "metadata": {
        "id": "ioqR1oJhNymz",
        "colab_type": "code",
        "colab": {
          "base_uri": "https://localhost:8080/",
          "height": 1000
        },
        "outputId": "41f5688e-118d-42fa-9067-90963dea2c5e"
      },
      "source": [
        "datagen = ImageDataGenerator(width_shift_range=0.1, height_shift_range=0.1, horizontal_flip=True,zoom_range=0.1)\n",
        "# prepare iterator\n",
        "it_train = datagen.flow(trainX, trainY, batch_size=BS)\n",
        "# fit model\n",
        "steps = int(trainX.shape[0] / BS)\n",
        "hist = model.fit_generator(it_train, steps_per_epoch=steps, epochs=EPOCHS, validation_data=(testX, testY), verbose=1)\n"
      ],
      "execution_count": 13,
      "outputs": [
        {
          "output_type": "stream",
          "text": [
            "WARNING:tensorflow:From <ipython-input-13-83c48152427b>:6: Model.fit_generator (from tensorflow.python.keras.engine.training) is deprecated and will be removed in a future version.\n",
            "Instructions for updating:\n",
            "Please use Model.fit, which supports generators.\n",
            "Epoch 1/100\n",
            " 2/53 [>.............................] - ETA: 10s - loss: 1.7447 - accuracy: 0.2031WARNING:tensorflow:Callbacks method `on_train_batch_end` is slow compared to the batch time (batch time: 0.1244s vs `on_train_batch_end` time: 0.2753s). Check your callbacks.\n",
            "53/53 [==============================] - 31s 583ms/step - loss: 1.0902 - accuracy: 0.5414 - val_loss: 0.9855 - val_accuracy: 0.6079\n",
            "Epoch 2/100\n",
            "53/53 [==============================] - 28s 524ms/step - loss: 0.8499 - accuracy: 0.6473 - val_loss: 0.9478 - val_accuracy: 0.6079\n",
            "Epoch 3/100\n",
            "53/53 [==============================] - 28s 526ms/step - loss: 0.7570 - accuracy: 0.6888 - val_loss: 0.8805 - val_accuracy: 0.6427\n",
            "Epoch 4/100\n",
            "53/53 [==============================] - 28s 525ms/step - loss: 0.7363 - accuracy: 0.7053 - val_loss: 0.8058 - val_accuracy: 0.6752\n",
            "Epoch 5/100\n",
            "53/53 [==============================] - 28s 528ms/step - loss: 0.6836 - accuracy: 0.7225 - val_loss: 0.8633 - val_accuracy: 0.6682\n",
            "Epoch 6/100\n",
            "53/53 [==============================] - 28s 527ms/step - loss: 0.6010 - accuracy: 0.7604 - val_loss: 0.7860 - val_accuracy: 0.6984\n",
            "Epoch 7/100\n",
            "53/53 [==============================] - 28s 529ms/step - loss: 0.5379 - accuracy: 0.7858 - val_loss: 0.8272 - val_accuracy: 0.6891\n",
            "Epoch 8/100\n",
            "53/53 [==============================] - 28s 532ms/step - loss: 0.5297 - accuracy: 0.8053 - val_loss: 0.8631 - val_accuracy: 0.7100\n",
            "Epoch 9/100\n",
            "53/53 [==============================] - 28s 531ms/step - loss: 0.4706 - accuracy: 0.8272 - val_loss: 0.7235 - val_accuracy: 0.7378\n",
            "Epoch 10/100\n",
            "53/53 [==============================] - 28s 531ms/step - loss: 0.3846 - accuracy: 0.8509 - val_loss: 0.8760 - val_accuracy: 0.7332\n",
            "Epoch 11/100\n",
            "53/53 [==============================] - 28s 528ms/step - loss: 0.3370 - accuracy: 0.8769 - val_loss: 0.8075 - val_accuracy: 0.7517\n",
            "Epoch 12/100\n",
            "53/53 [==============================] - 28s 526ms/step - loss: 0.3042 - accuracy: 0.8858 - val_loss: 0.7687 - val_accuracy: 0.7819\n",
            "Epoch 13/100\n",
            "53/53 [==============================] - 28s 519ms/step - loss: 0.2828 - accuracy: 0.8917 - val_loss: 1.0433 - val_accuracy: 0.7541\n",
            "Epoch 14/100\n",
            "53/53 [==============================] - 28s 521ms/step - loss: 0.2302 - accuracy: 0.9089 - val_loss: 0.8735 - val_accuracy: 0.7773\n",
            "Epoch 15/100\n",
            "53/53 [==============================] - 28s 523ms/step - loss: 0.1935 - accuracy: 0.9249 - val_loss: 1.0672 - val_accuracy: 0.7494\n",
            "Epoch 16/100\n",
            "53/53 [==============================] - 28s 523ms/step - loss: 0.1608 - accuracy: 0.9420 - val_loss: 0.7992 - val_accuracy: 0.7842\n",
            "Epoch 17/100\n",
            "53/53 [==============================] - 28s 520ms/step - loss: 0.1526 - accuracy: 0.9391 - val_loss: 1.2492 - val_accuracy: 0.7401\n",
            "Epoch 18/100\n",
            "53/53 [==============================] - 27s 517ms/step - loss: 0.1294 - accuracy: 0.9533 - val_loss: 1.1602 - val_accuracy: 0.7819\n",
            "Epoch 19/100\n",
            "53/53 [==============================] - 28s 523ms/step - loss: 0.1482 - accuracy: 0.9462 - val_loss: 1.0140 - val_accuracy: 0.7633\n",
            "Epoch 20/100\n",
            "53/53 [==============================] - 28s 520ms/step - loss: 0.0937 - accuracy: 0.9692 - val_loss: 0.9533 - val_accuracy: 0.7680\n",
            "Epoch 21/100\n",
            "53/53 [==============================] - 27s 514ms/step - loss: 0.1157 - accuracy: 0.9609 - val_loss: 0.9587 - val_accuracy: 0.7517\n",
            "Epoch 22/100\n",
            "53/53 [==============================] - 27s 515ms/step - loss: 0.1176 - accuracy: 0.9680 - val_loss: 1.1613 - val_accuracy: 0.7703\n",
            "Epoch 23/100\n",
            "53/53 [==============================] - 27s 512ms/step - loss: 0.0856 - accuracy: 0.9728 - val_loss: 1.0052 - val_accuracy: 0.7865\n",
            "Epoch 24/100\n",
            "53/53 [==============================] - 27s 513ms/step - loss: 0.0672 - accuracy: 0.9775 - val_loss: 1.0858 - val_accuracy: 0.7889\n",
            "Epoch 25/100\n",
            "53/53 [==============================] - 27s 515ms/step - loss: 0.1409 - accuracy: 0.9503 - val_loss: 0.9689 - val_accuracy: 0.7819\n",
            "Epoch 26/100\n",
            "53/53 [==============================] - 27s 508ms/step - loss: 0.1052 - accuracy: 0.9645 - val_loss: 1.1544 - val_accuracy: 0.7587\n",
            "Epoch 27/100\n",
            "53/53 [==============================] - 27s 510ms/step - loss: 0.0698 - accuracy: 0.9787 - val_loss: 0.8927 - val_accuracy: 0.8074\n",
            "Epoch 28/100\n",
            "53/53 [==============================] - 27s 512ms/step - loss: 0.0589 - accuracy: 0.9811 - val_loss: 0.9529 - val_accuracy: 0.7796\n",
            "Epoch 29/100\n",
            "53/53 [==============================] - 27s 509ms/step - loss: 0.0393 - accuracy: 0.9893 - val_loss: 1.3366 - val_accuracy: 0.7773\n",
            "Epoch 30/100\n",
            "53/53 [==============================] - 27s 511ms/step - loss: 0.0558 - accuracy: 0.9828 - val_loss: 1.2556 - val_accuracy: 0.7796\n",
            "Epoch 31/100\n",
            "53/53 [==============================] - 27s 511ms/step - loss: 0.0387 - accuracy: 0.9929 - val_loss: 1.2379 - val_accuracy: 0.7935\n",
            "Epoch 32/100\n",
            "53/53 [==============================] - 27s 510ms/step - loss: 0.0610 - accuracy: 0.9793 - val_loss: 1.0657 - val_accuracy: 0.7912\n",
            "Epoch 33/100\n",
            "53/53 [==============================] - 27s 506ms/step - loss: 0.0728 - accuracy: 0.9716 - val_loss: 1.2929 - val_accuracy: 0.8005\n",
            "Epoch 34/100\n",
            "53/53 [==============================] - 27s 510ms/step - loss: 0.0543 - accuracy: 0.9805 - val_loss: 1.1134 - val_accuracy: 0.7726\n",
            "Epoch 35/100\n",
            "53/53 [==============================] - 27s 506ms/step - loss: 0.0440 - accuracy: 0.9852 - val_loss: 1.1462 - val_accuracy: 0.7981\n",
            "Epoch 36/100\n",
            "53/53 [==============================] - 27s 505ms/step - loss: 0.0180 - accuracy: 0.9959 - val_loss: 1.4561 - val_accuracy: 0.8121\n",
            "Epoch 37/100\n",
            "53/53 [==============================] - 27s 507ms/step - loss: 0.0570 - accuracy: 0.9793 - val_loss: 1.2892 - val_accuracy: 0.7703\n",
            "Epoch 38/100\n",
            "53/53 [==============================] - 27s 505ms/step - loss: 0.0636 - accuracy: 0.9775 - val_loss: 0.9231 - val_accuracy: 0.7981\n",
            "Epoch 39/100\n",
            "53/53 [==============================] - 27s 507ms/step - loss: 0.0486 - accuracy: 0.9834 - val_loss: 1.1386 - val_accuracy: 0.7749\n",
            "Epoch 40/100\n",
            "53/53 [==============================] - 27s 508ms/step - loss: 0.0755 - accuracy: 0.9741 - val_loss: 1.3084 - val_accuracy: 0.7773\n",
            "Epoch 41/100\n",
            "53/53 [==============================] - 27s 510ms/step - loss: 0.0292 - accuracy: 0.9923 - val_loss: 1.2123 - val_accuracy: 0.7842\n",
            "Epoch 42/100\n",
            "53/53 [==============================] - 27s 507ms/step - loss: 0.0186 - accuracy: 0.9947 - val_loss: 1.3595 - val_accuracy: 0.7935\n",
            "Epoch 43/100\n",
            "53/53 [==============================] - 27s 507ms/step - loss: 0.0050 - accuracy: 0.9994 - val_loss: 1.4411 - val_accuracy: 0.7958\n",
            "Epoch 44/100\n",
            "53/53 [==============================] - 27s 503ms/step - loss: 0.0011 - accuracy: 1.0000 - val_loss: 1.5769 - val_accuracy: 0.8028\n",
            "Epoch 45/100\n",
            "53/53 [==============================] - 27s 502ms/step - loss: 0.0179 - accuracy: 0.9947 - val_loss: 1.2827 - val_accuracy: 0.7703\n",
            "Epoch 46/100\n",
            "53/53 [==============================] - 27s 506ms/step - loss: 0.0553 - accuracy: 0.9834 - val_loss: 0.9692 - val_accuracy: 0.7912\n",
            "Epoch 47/100\n",
            "53/53 [==============================] - 27s 505ms/step - loss: 0.0477 - accuracy: 0.9840 - val_loss: 0.9540 - val_accuracy: 0.7657\n",
            "Epoch 48/100\n",
            "53/53 [==============================] - 27s 503ms/step - loss: 0.0574 - accuracy: 0.9781 - val_loss: 1.0439 - val_accuracy: 0.7958\n",
            "Epoch 49/100\n",
            "53/53 [==============================] - 27s 504ms/step - loss: 0.0272 - accuracy: 0.9905 - val_loss: 1.0962 - val_accuracy: 0.7865\n",
            "Epoch 50/100\n",
            "53/53 [==============================] - 27s 502ms/step - loss: 0.0987 - accuracy: 0.9680 - val_loss: 1.2018 - val_accuracy: 0.7425\n",
            "Epoch 51/100\n",
            "53/53 [==============================] - 27s 502ms/step - loss: 0.0359 - accuracy: 0.9917 - val_loss: 1.4529 - val_accuracy: 0.7749\n",
            "Epoch 52/100\n",
            "53/53 [==============================] - 27s 504ms/step - loss: 0.0237 - accuracy: 0.9923 - val_loss: 1.4702 - val_accuracy: 0.7494\n",
            "Epoch 53/100\n",
            "53/53 [==============================] - 27s 503ms/step - loss: 0.0523 - accuracy: 0.9858 - val_loss: 1.1405 - val_accuracy: 0.7773\n",
            "Epoch 54/100\n",
            "53/53 [==============================] - 27s 505ms/step - loss: 0.0581 - accuracy: 0.9822 - val_loss: 1.0326 - val_accuracy: 0.7912\n",
            "Epoch 55/100\n",
            "53/53 [==============================] - 27s 502ms/step - loss: 0.0320 - accuracy: 0.9899 - val_loss: 1.2729 - val_accuracy: 0.8051\n",
            "Epoch 56/100\n",
            "53/53 [==============================] - 27s 506ms/step - loss: 0.0169 - accuracy: 0.9953 - val_loss: 1.2732 - val_accuracy: 0.7842\n",
            "Epoch 57/100\n",
            "53/53 [==============================] - 27s 502ms/step - loss: 0.0491 - accuracy: 0.9828 - val_loss: 1.9387 - val_accuracy: 0.7077\n",
            "Epoch 58/100\n",
            "53/53 [==============================] - 27s 505ms/step - loss: 0.0408 - accuracy: 0.9876 - val_loss: 1.3394 - val_accuracy: 0.7842\n",
            "Epoch 59/100\n",
            "53/53 [==============================] - 27s 502ms/step - loss: 0.0131 - accuracy: 0.9970 - val_loss: 1.4295 - val_accuracy: 0.8028\n",
            "Epoch 60/100\n",
            "53/53 [==============================] - 27s 500ms/step - loss: 0.0198 - accuracy: 0.9935 - val_loss: 1.3915 - val_accuracy: 0.7865\n",
            "Epoch 61/100\n",
            "53/53 [==============================] - 27s 502ms/step - loss: 0.1050 - accuracy: 0.9698 - val_loss: 0.9393 - val_accuracy: 0.7842\n",
            "Epoch 62/100\n",
            "53/53 [==============================] - 26s 500ms/step - loss: 0.0197 - accuracy: 0.9947 - val_loss: 1.4155 - val_accuracy: 0.7865\n",
            "Epoch 63/100\n",
            "53/53 [==============================] - 27s 503ms/step - loss: 0.0039 - accuracy: 0.9994 - val_loss: 1.5577 - val_accuracy: 0.8005\n",
            "Epoch 64/100\n",
            "53/53 [==============================] - 27s 503ms/step - loss: 0.0276 - accuracy: 0.9905 - val_loss: 1.2390 - val_accuracy: 0.7726\n",
            "Epoch 65/100\n",
            "53/53 [==============================] - 27s 501ms/step - loss: 0.0645 - accuracy: 0.9799 - val_loss: 1.0044 - val_accuracy: 0.7749\n",
            "Epoch 66/100\n",
            "53/53 [==============================] - 27s 501ms/step - loss: 0.0347 - accuracy: 0.9882 - val_loss: 1.1526 - val_accuracy: 0.7842\n",
            "Epoch 67/100\n",
            "53/53 [==============================] - 26s 499ms/step - loss: 0.0041 - accuracy: 0.9994 - val_loss: 1.2074 - val_accuracy: 0.7889\n",
            "Epoch 68/100\n",
            "53/53 [==============================] - 27s 500ms/step - loss: 0.0290 - accuracy: 0.9911 - val_loss: 1.4354 - val_accuracy: 0.7819\n",
            "Epoch 69/100\n",
            "53/53 [==============================] - 27s 501ms/step - loss: 0.0347 - accuracy: 0.9905 - val_loss: 1.2925 - val_accuracy: 0.7958\n",
            "Epoch 70/100\n",
            "53/53 [==============================] - 27s 503ms/step - loss: 0.0054 - accuracy: 0.9982 - val_loss: 1.5592 - val_accuracy: 0.7912\n",
            "Epoch 71/100\n",
            "53/53 [==============================] - 27s 501ms/step - loss: 0.0053 - accuracy: 0.9982 - val_loss: 1.3679 - val_accuracy: 0.7981\n",
            "Epoch 72/100\n",
            "53/53 [==============================] - 26s 499ms/step - loss: 0.0048 - accuracy: 0.9982 - val_loss: 1.8702 - val_accuracy: 0.7587\n",
            "Epoch 73/100\n",
            "53/53 [==============================] - 26s 500ms/step - loss: 0.0554 - accuracy: 0.9828 - val_loss: 1.1972 - val_accuracy: 0.7865\n",
            "Epoch 74/100\n",
            "53/53 [==============================] - 26s 499ms/step - loss: 0.0409 - accuracy: 0.9864 - val_loss: 1.4613 - val_accuracy: 0.7541\n",
            "Epoch 75/100\n",
            "53/53 [==============================] - 27s 501ms/step - loss: 0.0659 - accuracy: 0.9757 - val_loss: 1.3056 - val_accuracy: 0.7819\n",
            "Epoch 76/100\n",
            "53/53 [==============================] - 27s 505ms/step - loss: 0.0292 - accuracy: 0.9917 - val_loss: 1.4607 - val_accuracy: 0.7796\n",
            "Epoch 77/100\n",
            "53/53 [==============================] - 26s 498ms/step - loss: 0.0608 - accuracy: 0.9817 - val_loss: 1.1010 - val_accuracy: 0.7633\n",
            "Epoch 78/100\n",
            "53/53 [==============================] - 27s 501ms/step - loss: 0.0863 - accuracy: 0.9710 - val_loss: 1.3028 - val_accuracy: 0.7285\n",
            "Epoch 79/100\n",
            "53/53 [==============================] - 27s 501ms/step - loss: 0.0265 - accuracy: 0.9929 - val_loss: 1.3587 - val_accuracy: 0.7610\n",
            "Epoch 80/100\n",
            "53/53 [==============================] - 26s 498ms/step - loss: 0.0139 - accuracy: 0.9935 - val_loss: 1.2818 - val_accuracy: 0.7912\n",
            "Epoch 81/100\n",
            "53/53 [==============================] - 27s 501ms/step - loss: 0.0219 - accuracy: 0.9935 - val_loss: 1.2545 - val_accuracy: 0.7912\n",
            "Epoch 82/100\n",
            "53/53 [==============================] - 27s 503ms/step - loss: 0.0041 - accuracy: 0.9994 - val_loss: 1.3800 - val_accuracy: 0.7912\n",
            "Epoch 83/100\n",
            "53/53 [==============================] - 26s 500ms/step - loss: 0.0028 - accuracy: 0.9994 - val_loss: 1.7343 - val_accuracy: 0.7378\n",
            "Epoch 84/100\n",
            "53/53 [==============================] - 26s 500ms/step - loss: 0.0956 - accuracy: 0.9716 - val_loss: 1.0613 - val_accuracy: 0.6984\n",
            "Epoch 85/100\n",
            "53/53 [==============================] - 27s 500ms/step - loss: 0.0516 - accuracy: 0.9828 - val_loss: 1.4144 - val_accuracy: 0.7796\n",
            "Epoch 86/100\n",
            "53/53 [==============================] - 26s 496ms/step - loss: 0.0049 - accuracy: 0.9994 - val_loss: 1.5087 - val_accuracy: 0.8051\n",
            "Epoch 87/100\n",
            "53/53 [==============================] - 27s 502ms/step - loss: 0.0011 - accuracy: 1.0000 - val_loss: 1.4509 - val_accuracy: 0.8167\n",
            "Epoch 88/100\n",
            "53/53 [==============================] - 27s 501ms/step - loss: 9.1117e-04 - accuracy: 1.0000 - val_loss: 1.4826 - val_accuracy: 0.8074\n",
            "Epoch 89/100\n",
            "53/53 [==============================] - 26s 498ms/step - loss: 1.7403e-04 - accuracy: 1.0000 - val_loss: 1.5409 - val_accuracy: 0.8074\n",
            "Epoch 90/100\n",
            "53/53 [==============================] - 27s 500ms/step - loss: 1.6813e-04 - accuracy: 1.0000 - val_loss: 1.5814 - val_accuracy: 0.8097\n",
            "Epoch 91/100\n",
            "53/53 [==============================] - 26s 499ms/step - loss: 1.5622e-04 - accuracy: 1.0000 - val_loss: 1.6231 - val_accuracy: 0.7981\n",
            "Epoch 92/100\n",
            "53/53 [==============================] - 26s 497ms/step - loss: 1.4795e-04 - accuracy: 1.0000 - val_loss: 1.6027 - val_accuracy: 0.8121\n",
            "Epoch 93/100\n",
            "53/53 [==============================] - 26s 499ms/step - loss: 1.0057e-04 - accuracy: 1.0000 - val_loss: 1.6433 - val_accuracy: 0.8028\n",
            "Epoch 94/100\n",
            "53/53 [==============================] - 26s 498ms/step - loss: 7.4452e-05 - accuracy: 1.0000 - val_loss: 1.6721 - val_accuracy: 0.8005\n",
            "Epoch 95/100\n",
            "53/53 [==============================] - 26s 499ms/step - loss: 1.0549e-04 - accuracy: 1.0000 - val_loss: 1.6557 - val_accuracy: 0.8121\n",
            "Epoch 96/100\n",
            "53/53 [==============================] - 27s 500ms/step - loss: 7.6790e-05 - accuracy: 1.0000 - val_loss: 1.6430 - val_accuracy: 0.8051\n",
            "Epoch 97/100\n",
            "53/53 [==============================] - 26s 498ms/step - loss: 5.2321e-05 - accuracy: 1.0000 - val_loss: 1.6670 - val_accuracy: 0.8097\n",
            "Epoch 98/100\n",
            "53/53 [==============================] - 27s 500ms/step - loss: 1.4878e-04 - accuracy: 1.0000 - val_loss: 1.8118 - val_accuracy: 0.8167\n",
            "Epoch 99/100\n",
            "53/53 [==============================] - 27s 502ms/step - loss: 5.8623e-05 - accuracy: 1.0000 - val_loss: 1.7813 - val_accuracy: 0.8213\n",
            "Epoch 100/100\n",
            "53/53 [==============================] - 26s 497ms/step - loss: 3.7685e-05 - accuracy: 1.0000 - val_loss: 1.7881 - val_accuracy: 0.8237\n"
          ],
          "name": "stdout"
        }
      ]
    },
    {
      "cell_type": "code",
      "metadata": {
        "id": "zFtOX9w8nYLZ",
        "colab_type": "code",
        "colab": {
          "base_uri": "https://localhost:8080/",
          "height": 51
        },
        "outputId": "0028ad4d-67bc-43f7-a940-653ddaf07c2a"
      },
      "source": [
        "# evaluate model\n",
        "_, acc = model.evaluate(testX, testY, verbose=1)\n",
        "print('> %.3f' % (acc * 100.0))"
      ],
      "execution_count": 14,
      "outputs": [
        {
          "output_type": "stream",
          "text": [
            "14/14 [==============================] - 2s 120ms/step - loss: 1.7881 - accuracy: 0.8237\n",
            "> 82.367\n"
          ],
          "name": "stdout"
        }
      ]
    },
    {
      "cell_type": "code",
      "metadata": {
        "id": "AUMRxx34nFIp",
        "colab_type": "code",
        "colab": {
          "base_uri": "https://localhost:8080/",
          "height": 295
        },
        "outputId": "88f50114-4f4a-4287-9517-ec00c95ad597"
      },
      "source": [
        "summarize_diagnostics(hist)"
      ],
      "execution_count": 15,
      "outputs": [
        {
          "output_type": "display_data",
          "data": {
            "image/png": "[encoded data removed]",
            "text/plain": [
              "<Figure size 432x288 with 1 Axes>"
            ]
          },
          "metadata": {
            "tags": [],
            "needs_background": "light"
          }
        }
      ]
    },
    {
      "cell_type": "markdown",
      "metadata": {
        "id": "LrCrAdqLbnEJ",
        "colab_type": "text"
      },
      "source": [
        "# Confusion matrix and classification report"
      ]
    },
    {
      "cell_type": "code",
      "metadata": {
        "id": "-ZIcyPJCRvKr",
        "colab_type": "code",
        "colab": {
          "base_uri": "https://localhost:8080/",
          "height": 119
        },
        "outputId": "0a9d6a3b-9d71-4c4c-8e8c-1ccab739cebc"
      },
      "source": [
        "from sklearn.metrics import confusion_matrix,classification_report\n",
        "y_pred = model.predict(testX)\n",
        "y_p = np.argmax(y_pred,axis=1)\n",
        "y_true = np.argmax(testY,axis=1)\n",
        "print(confusion_matrix(y_true,y_p))"
      ],
      "execution_count": 16,
      "outputs": [
        {
          "output_type": "stream",
          "text": [
            "[[33  0  0  0  0  0]\n",
            " [ 1 71  6  6 14  0]\n",
            " [ 0  3 64  6  2  0]\n",
            " [ 0  3  7 73  8  0]\n",
            " [ 0  6  2 11 41  1]\n",
            " [ 0  0  0  0  0 73]]\n"
          ],
          "name": "stdout"
        }
      ]
    },
    {
      "cell_type": "code",
      "metadata": {
        "id": "7wyE6tMx-3ia",
        "colab_type": "code",
        "colab": {
          "base_uri": "https://localhost:8080/",
          "height": 255
        },
        "outputId": "a7c309c6-6a22-411a-a843-9df8d1de7be8"
      },
      "source": [
        "print('Classification report')\n",
        "print(classification_report(y_true,y_p))"
      ],
      "execution_count": 17,
      "outputs": [
        {
          "output_type": "stream",
          "text": [
            "Classification report\n",
            "              precision    recall  f1-score   support\n",
            "\n",
            "           0       0.97      1.00      0.99        33\n",
            "           1       0.86      0.72      0.78        98\n",
            "           2       0.81      0.85      0.83        75\n",
            "           3       0.76      0.80      0.78        91\n",
            "           4       0.63      0.67      0.65        61\n",
            "           5       0.99      1.00      0.99        73\n",
            "\n",
            "    accuracy                           0.82       431\n",
            "   macro avg       0.84      0.84      0.84       431\n",
            "weighted avg       0.83      0.82      0.82       431\n",
            "\n"
          ],
          "name": "stdout"
        }
      ]
    },
    {
      "cell_type": "markdown",
      "metadata": {
        "id": "Vx_GKtX4bxlV",
        "colab_type": "text"
      },
      "source": [
        "# CNN + SVM"
      ]
    },
    {
      "cell_type": "code",
      "metadata": {
        "id": "YqXbyvhF5hdk",
        "colab_type": "code",
        "colab": {}
      },
      "source": [
        "from sklearn.preprocessing import StandardScaler\n",
        "sc = StandardScaler()\n",
        "# extracting features using Transfer Learning\n",
        "model_new = Model(inputs = model.input,outputs = model.get_layer('global_average_pooling2d_3').output) \n",
        "train_new = sc.fit_transform(model_new.predict(trainX))\n",
        "test_new = sc.fit_transform(model_new.predict(testX))"
      ],
      "execution_count": 25,
      "outputs": []
    },
    {
      "cell_type": "code",
      "metadata": {
        "id": "EiLZAB909UhM",
        "colab_type": "code",
        "colab": {
          "base_uri": "https://localhost:8080/",
          "height": 51
        },
        "outputId": "a1346227-2428-4293-b3ba-d5d7a649da95"
      },
      "source": [
        "\n",
        "from sklearn.svm import SVC\n",
        "svm = SVC(kernel='rbf')\n",
        "svm.fit(train_new,np.argmax(trainY,axis=1))\n",
        "sc1 = svm.score(train_new,np.argmax(trainY,axis=1))\n",
        "sc2 = svm.score(test_new,np.argmax(testY,axis=1))\n",
        "print('training accuracy of svm is : ',sc1)\n",
        "print('testing accuracy of svm is : ',sc2)"
      ],
      "execution_count": 22,
      "outputs": [
        {
          "output_type": "stream",
          "text": [
            "training accuracy of svm is :  1.0\n",
            "testing accuracy of svm is :  0.8120649651972158\n"
          ],
          "name": "stdout"
        }
      ]
    },
    {
      "cell_type": "markdown",
      "metadata": {
        "id": "YcRUtRROb4ni",
        "colab_type": "text"
      },
      "source": [
        "# CNN + XGBOOST\n"
      ]
    },
    {
      "cell_type": "code",
      "metadata": {
        "id": "jpYvIb-9ZAiY",
        "colab_type": "code",
        "colab": {
          "base_uri": "https://localhost:8080/",
          "height": 51
        },
        "outputId": "35883d1b-4269-49fd-a019-76bd15f36162"
      },
      "source": [
        "from xgboost import XGBClassifier\n",
        "xg = XGBClassifier()\n",
        "xg.fit(train_new,np.argmax(trainY,axis=1))\n",
        "sc3 = xg.score(train_new,np.argmax(trainY,axis=1))\n",
        "sc4 = xg.score(test_new,np.argmax(testY,axis=1))\n",
        "print('training accuracy of xgboost is : ',sc3)\n",
        "print('testing accuracy of xgboost is : ',sc4)"
      ],
      "execution_count": 23,
      "outputs": [
        {
          "output_type": "stream",
          "text": [
            "training accuracy of xgboost is :  1.0\n",
            "testing accuracy of xgboost is :  0.7958236658932715\n"
          ],
          "name": "stdout"
        }
      ]
    }
  ]
}