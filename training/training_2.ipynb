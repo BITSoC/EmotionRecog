{
  "nbformat": 4,
  "nbformat_minor": 0,
  "metadata": {
    "colab": {
      "name": "training 2.ipynb",
      "provenance": [],
      "collapsed_sections": [],
      "include_colab_link": true
    },
    "kernelspec": {
      "name": "python3",
      "display_name": "Python 3"
    },
    "accelerator": "GPU"
  },
  "cells": [
    {
      "cell_type": "markdown",
      "metadata": {
        "id": "view-in-github",
        "colab_type": "text"
      },
      "source": [
        "<a href=\"https://colab.research.google.com/github/harry418/EmotionRecog/blob/master/training/training_2.ipynb\" target=\"_parent\"><img src=\"https://colab.research.google.com/assets/colab-badge.svg\" alt=\"Open In Colab\"/></a>"
      ]
    },
    {
      "cell_type": "code",
      "metadata": {
        "id": "UBtcvhCzIKcM",
        "colab_type": "code",
        "colab": {
          "base_uri": "https://localhost:8080/",
          "height": 34
        },
        "outputId": "256b75d8-617f-4d46-e1ef-519897099343"
      },
      "source": [
        "from google.colab import drive\n",
        "drive.mount('/content/gdrive',force_remount=True)"
      ],
      "execution_count": 1,
      "outputs": [
        {
          "output_type": "stream",
          "text": [
            "Mounted at /content/gdrive\n"
          ],
          "name": "stdout"
        }
      ]
    },
    {
      "cell_type": "markdown",
      "metadata": {
        "id": "i0JR5MZ8ZdCd",
        "colab_type": "text"
      },
      "source": [
        "# Imported importanat libraries"
      ]
    },
    {
      "cell_type": "code",
      "metadata": {
        "id": "H3pMDg6ITM-I",
        "colab_type": "code",
        "colab": {}
      },
      "source": [
        "# baseline model with dropout and data augmentation on the cifar10 dataset\n",
        "import sys\n",
        "import tensorflow\n",
        "from matplotlib import pyplot\n",
        "from tensorflow.keras.utils import to_categorical\n",
        "from tensorflow.keras.models import Sequential,Model\n",
        "from tensorflow.keras.layers import Conv2D,MaxPooling2D,Dense,Flatten,Dropout,BatchNormalization,AveragePooling2D\n",
        "from tensorflow.keras.optimizers import SGD,Adam\n",
        "from tensorflow.keras.preprocessing.image import ImageDataGenerator\n",
        "from sklearn.model_selection import train_test_split\n",
        "from tensorflow.keras.preprocessing.image import img_to_array\n",
        "from tensorflow.keras.preprocessing.image import load_img\n",
        "from imutils import paths\n",
        "import matplotlib.pyplot as plt\n",
        "import numpy as np\n",
        "import random\n",
        "import os\n",
        "from sklearn.preprocessing import LabelEncoder\n",
        "from tensorflow.keras.layers import Input"
      ],
      "execution_count": 2,
      "outputs": []
    },
    {
      "cell_type": "markdown",
      "metadata": {
        "id": "M41fO_omZjwz",
        "colab_type": "text"
      },
      "source": [
        "# load preprocessed data\n"
      ]
    },
    {
      "cell_type": "code",
      "metadata": {
        "id": "d4Uyx78x_hdz",
        "colab_type": "code",
        "colab": {}
      },
      "source": [
        "# storing preprocessed images and labels for further use\n",
        "data = np.load('/content/gdrive/My Drive/emotion_recog/data.npy')\n",
        "labels_value  = np.load('/content/gdrive/My Drive/emotion_recog/labels_value.npy')"
      ],
      "execution_count": 3,
      "outputs": []
    },
    {
      "cell_type": "markdown",
      "metadata": {
        "id": "4GqGkNLAZrS2",
        "colab_type": "text"
      },
      "source": [
        "# train and test splitting with sklearn\n"
      ]
    },
    {
      "cell_type": "code",
      "metadata": {
        "id": "8ZIwxrwYq2ZI",
        "colab_type": "code",
        "colab": {}
      },
      "source": [
        "trainX, testX,trainY, testY = train_test_split(data, labels_value,test_size=0.2, random_state=42,shuffle = True)"
      ],
      "execution_count": 4,
      "outputs": []
    },
    {
      "cell_type": "markdown",
      "metadata": {
        "id": "XLEHDBljaGyh",
        "colab_type": "text"
      },
      "source": [
        "# Training and plotting accuracy and loss"
      ]
    },
    {
      "cell_type": "code",
      "metadata": {
        "id": "iGR349OMTejy",
        "colab_type": "code",
        "colab": {}
      },
      "source": [
        "# plot diagnostic learning curves\n",
        "import matplotlib.pyplot as plt\n",
        "def summarize_diagnostics(hist):\n",
        "\tplt.plot(hist.history[\"accuracy\"])\n",
        "\tplt.plot(hist.history['val_accuracy'])\n",
        "\tplt.plot(hist.history['loss'])\n",
        "\tplt.plot(hist.history['val_loss'])\n",
        "\tplt.title(\"model accuracy\")\n",
        "\tplt.ylabel(\"Accuracy\")\n",
        "\tplt.xlabel(\"Epoch\")\n",
        "\tplt.legend([\"Accuracy\",\"Validation Accuracy\",\"loss\",\"Validation Loss\"])\n",
        "\tplt.show()"
      ],
      "execution_count": 5,
      "outputs": []
    },
    {
      "cell_type": "code",
      "metadata": {
        "id": "PaGO947yNv_o",
        "colab_type": "code",
        "colab": {
          "base_uri": "https://localhost:8080/",
          "height": 34
        },
        "outputId": "1ba87bad-c40d-46dd-9554-af490cb33362"
      },
      "source": [
        "from keras.applications.mobilenet_v2 import MobileNetV2\n",
        "from keras.preprocessing import image\n",
        "from keras.layers import GlobalAveragePooling2D\n",
        "\n",
        "inp = Input(shape = (224,224,3))\n",
        "\n",
        "model_mobile = MobileNetV2(input_shape=(224,224,3), include_top=False, weights='imagenet')\n",
        "x1 = model_mobile(inp)\n",
        "x2 = GlobalAveragePooling2D()(x1)\n",
        "x3 = Dense(128,activation='relu')(x2)\n",
        "out = Dense(6, activation='softmax')(x3)\n",
        "\n",
        "INIT_LR = 1e-4\n",
        "print(\"[INFO] compiling model...\")\n",
        "opt = Adam(lr=INIT_LR, decay=INIT_LR /100)\n",
        "model = Model(inputs = inp, outputs = out)\n",
        "\n",
        "model.compile(optimizer=opt, loss='categorical_crossentropy', metrics=['accuracy'])"
      ],
      "execution_count": 6,
      "outputs": [
        {
          "output_type": "stream",
          "text": [
            "[INFO] compiling model...\n"
          ],
          "name": "stdout"
        }
      ]
    },
    {
      "cell_type": "code",
      "metadata": {
        "id": "R7zvcZB1oNDi",
        "colab_type": "code",
        "colab": {
          "base_uri": "https://localhost:8080/",
          "height": 323
        },
        "outputId": "7de233b0-4bc1-4b86-f7ff-cb3a74926a1c"
      },
      "source": [
        "model.summary()"
      ],
      "execution_count": 7,
      "outputs": [
        {
          "output_type": "stream",
          "text": [
            "Model: \"functional_1\"\n",
            "_________________________________________________________________\n",
            "Layer (type)                 Output Shape              Param #   \n",
            "=================================================================\n",
            "input_1 (InputLayer)         [(None, 224, 224, 3)]     0         \n",
            "_________________________________________________________________\n",
            "mobilenetv2_1.00_224 (Functi (None, 7, 7, 1280)        2257984   \n",
            "_________________________________________________________________\n",
            "global_average_pooling2d (Gl (None, 1280)              0         \n",
            "_________________________________________________________________\n",
            "dense (Dense)                (None, 128)               163968    \n",
            "_________________________________________________________________\n",
            "dense_1 (Dense)              (None, 6)                 774       \n",
            "=================================================================\n",
            "Total params: 2,422,726\n",
            "Trainable params: 2,388,614\n",
            "Non-trainable params: 34,112\n",
            "_________________________________________________________________\n"
          ],
          "name": "stdout"
        }
      ]
    },
    {
      "cell_type": "code",
      "metadata": {
        "id": "uI742reim40S",
        "colab_type": "code",
        "colab": {}
      },
      "source": [
        "# batch size and epochs\n",
        "EPOCHS = 100\n",
        "BS = 32"
      ],
      "execution_count": 8,
      "outputs": []
    },
    {
      "cell_type": "code",
      "metadata": {
        "id": "ioqR1oJhNymz",
        "colab_type": "code",
        "colab": {
          "base_uri": "https://localhost:8080/",
          "height": 1000
        },
        "outputId": "5f8bdaa9-31d5-4e68-d8e4-e4a8c75d6ab6"
      },
      "source": [
        "datagen = ImageDataGenerator(width_shift_range=0.1, height_shift_range=0.1, horizontal_flip=True,zoom_range=0.1)\n",
        "# prepare iterator\n",
        "it_train = datagen.flow(trainX, trainY, batch_size=BS)\n",
        "# fit model\n",
        "steps = int(trainX.shape[0] / BS)\n",
        "hist = model.fit_generator(it_train, steps_per_epoch=steps, epochs=EPOCHS, validation_data=(testX, testY), verbose=1)\n"
      ],
      "execution_count": 9,
      "outputs": [
        {
          "output_type": "stream",
          "text": [
            "WARNING:tensorflow:From <ipython-input-9-83c48152427b>:6: Model.fit_generator (from tensorflow.python.keras.engine.training) is deprecated and will be removed in a future version.\n",
            "Instructions for updating:\n",
            "Please use Model.fit, which supports generators.\n",
            "Epoch 1/100\n",
            " 2/53 [>.............................] - ETA: 5s - loss: 1.8461 - accuracy: 0.1562WARNING:tensorflow:Callbacks method `on_train_batch_end` is slow compared to the batch time (batch time: 0.0597s vs `on_train_batch_end` time: 0.1513s). Check your callbacks.\n",
            "53/53 [==============================] - 21s 405ms/step - loss: 1.0168 - accuracy: 0.6065 - val_loss: 1.1758 - val_accuracy: 0.5684\n",
            "Epoch 2/100\n",
            "53/53 [==============================] - 21s 392ms/step - loss: 0.5162 - accuracy: 0.8278 - val_loss: 1.0956 - val_accuracy: 0.6241\n",
            "Epoch 3/100\n",
            "53/53 [==============================] - 21s 388ms/step - loss: 0.3258 - accuracy: 0.8947 - val_loss: 1.0293 - val_accuracy: 0.6427\n",
            "Epoch 4/100\n",
            "53/53 [==============================] - 21s 391ms/step - loss: 0.2194 - accuracy: 0.9325 - val_loss: 1.1885 - val_accuracy: 0.6195\n",
            "Epoch 5/100\n",
            "53/53 [==============================] - 21s 388ms/step - loss: 0.1385 - accuracy: 0.9580 - val_loss: 1.2249 - val_accuracy: 0.6404\n",
            "Epoch 6/100\n",
            "53/53 [==============================] - 21s 390ms/step - loss: 0.0931 - accuracy: 0.9764 - val_loss: 1.2620 - val_accuracy: 0.6682\n",
            "Epoch 7/100\n",
            "53/53 [==============================] - 21s 389ms/step - loss: 0.0548 - accuracy: 0.9888 - val_loss: 1.1124 - val_accuracy: 0.6984\n",
            "Epoch 8/100\n",
            "53/53 [==============================] - 21s 390ms/step - loss: 0.0541 - accuracy: 0.9846 - val_loss: 1.2001 - val_accuracy: 0.6613\n",
            "Epoch 9/100\n",
            "53/53 [==============================] - 21s 389ms/step - loss: 0.0398 - accuracy: 0.9899 - val_loss: 1.3333 - val_accuracy: 0.6613\n",
            "Epoch 10/100\n",
            "53/53 [==============================] - 21s 391ms/step - loss: 0.0344 - accuracy: 0.9911 - val_loss: 1.1536 - val_accuracy: 0.7100\n",
            "Epoch 11/100\n",
            "53/53 [==============================] - 21s 389ms/step - loss: 0.0401 - accuracy: 0.9888 - val_loss: 1.2992 - val_accuracy: 0.6775\n",
            "Epoch 12/100\n",
            "53/53 [==============================] - 21s 391ms/step - loss: 0.0256 - accuracy: 0.9941 - val_loss: 1.4108 - val_accuracy: 0.6566\n",
            "Epoch 13/100\n",
            "53/53 [==============================] - 21s 389ms/step - loss: 0.0230 - accuracy: 0.9953 - val_loss: 1.8582 - val_accuracy: 0.6520\n",
            "Epoch 14/100\n",
            "53/53 [==============================] - 21s 393ms/step - loss: 0.0215 - accuracy: 0.9941 - val_loss: 1.3031 - val_accuracy: 0.7239\n",
            "Epoch 15/100\n",
            "53/53 [==============================] - 21s 391ms/step - loss: 0.0219 - accuracy: 0.9929 - val_loss: 1.7525 - val_accuracy: 0.6613\n",
            "Epoch 16/100\n",
            "53/53 [==============================] - 21s 392ms/step - loss: 0.0275 - accuracy: 0.9882 - val_loss: 1.3599 - val_accuracy: 0.7239\n",
            "Epoch 17/100\n",
            "53/53 [==============================] - 21s 392ms/step - loss: 0.0301 - accuracy: 0.9929 - val_loss: 1.7241 - val_accuracy: 0.6868\n",
            "Epoch 18/100\n",
            "53/53 [==============================] - 21s 390ms/step - loss: 0.0177 - accuracy: 0.9953 - val_loss: 1.3763 - val_accuracy: 0.7146\n",
            "Epoch 19/100\n",
            "53/53 [==============================] - 21s 390ms/step - loss: 0.0117 - accuracy: 0.9971 - val_loss: 1.3694 - val_accuracy: 0.7077\n",
            "Epoch 20/100\n",
            "53/53 [==============================] - 21s 390ms/step - loss: 0.0143 - accuracy: 0.9959 - val_loss: 1.1045 - val_accuracy: 0.7680\n",
            "Epoch 21/100\n",
            "53/53 [==============================] - 21s 388ms/step - loss: 0.0153 - accuracy: 0.9953 - val_loss: 1.1630 - val_accuracy: 0.7633\n",
            "Epoch 22/100\n",
            "53/53 [==============================] - 21s 394ms/step - loss: 0.0185 - accuracy: 0.9941 - val_loss: 0.9733 - val_accuracy: 0.7889\n",
            "Epoch 23/100\n",
            "53/53 [==============================] - 21s 395ms/step - loss: 0.0191 - accuracy: 0.9923 - val_loss: 0.9944 - val_accuracy: 0.7680\n",
            "Epoch 24/100\n",
            "53/53 [==============================] - 21s 393ms/step - loss: 0.0112 - accuracy: 0.9970 - val_loss: 1.4264 - val_accuracy: 0.7262\n",
            "Epoch 25/100\n",
            "53/53 [==============================] - 21s 391ms/step - loss: 0.0193 - accuracy: 0.9953 - val_loss: 1.4002 - val_accuracy: 0.7309\n",
            "Epoch 26/100\n",
            "53/53 [==============================] - 21s 392ms/step - loss: 0.0200 - accuracy: 0.9917 - val_loss: 1.3291 - val_accuracy: 0.7401\n",
            "Epoch 27/100\n",
            "53/53 [==============================] - 21s 399ms/step - loss: 0.0204 - accuracy: 0.9923 - val_loss: 1.1872 - val_accuracy: 0.7912\n",
            "Epoch 28/100\n",
            "53/53 [==============================] - 21s 396ms/step - loss: 0.0160 - accuracy: 0.9959 - val_loss: 1.4770 - val_accuracy: 0.7564\n",
            "Epoch 29/100\n",
            "53/53 [==============================] - 21s 395ms/step - loss: 0.0166 - accuracy: 0.9941 - val_loss: 1.4768 - val_accuracy: 0.7517\n",
            "Epoch 30/100\n",
            "53/53 [==============================] - 21s 394ms/step - loss: 0.0150 - accuracy: 0.9964 - val_loss: 1.1987 - val_accuracy: 0.7889\n",
            "Epoch 31/100\n",
            "53/53 [==============================] - 21s 397ms/step - loss: 0.0132 - accuracy: 0.9953 - val_loss: 1.1230 - val_accuracy: 0.7958\n",
            "Epoch 32/100\n",
            "53/53 [==============================] - 21s 395ms/step - loss: 0.0262 - accuracy: 0.9935 - val_loss: 1.6222 - val_accuracy: 0.7633\n",
            "Epoch 33/100\n",
            "53/53 [==============================] - 21s 393ms/step - loss: 0.0191 - accuracy: 0.9953 - val_loss: 1.4936 - val_accuracy: 0.7703\n",
            "Epoch 34/100\n",
            "53/53 [==============================] - 21s 394ms/step - loss: 0.0262 - accuracy: 0.9905 - val_loss: 1.4837 - val_accuracy: 0.7680\n",
            "Epoch 35/100\n",
            "53/53 [==============================] - 21s 396ms/step - loss: 0.0140 - accuracy: 0.9959 - val_loss: 1.5980 - val_accuracy: 0.7471\n",
            "Epoch 36/100\n",
            "53/53 [==============================] - 21s 390ms/step - loss: 0.0277 - accuracy: 0.9917 - val_loss: 1.5232 - val_accuracy: 0.7657\n",
            "Epoch 37/100\n",
            "53/53 [==============================] - 21s 393ms/step - loss: 0.0117 - accuracy: 0.9970 - val_loss: 1.3362 - val_accuracy: 0.7796\n",
            "Epoch 38/100\n",
            "53/53 [==============================] - 21s 395ms/step - loss: 0.0120 - accuracy: 0.9959 - val_loss: 1.3335 - val_accuracy: 0.7703\n",
            "Epoch 39/100\n",
            "53/53 [==============================] - 21s 394ms/step - loss: 0.0079 - accuracy: 0.9976 - val_loss: 1.3238 - val_accuracy: 0.7796\n",
            "Epoch 40/100\n",
            "53/53 [==============================] - 21s 393ms/step - loss: 0.0077 - accuracy: 0.9982 - val_loss: 1.2250 - val_accuracy: 0.8028\n",
            "Epoch 41/100\n",
            "53/53 [==============================] - 21s 393ms/step - loss: 0.0153 - accuracy: 0.9929 - val_loss: 1.1042 - val_accuracy: 0.8074\n",
            "Epoch 42/100\n",
            "53/53 [==============================] - 21s 399ms/step - loss: 0.0096 - accuracy: 0.9976 - val_loss: 1.1215 - val_accuracy: 0.8121\n",
            "Epoch 43/100\n",
            "53/53 [==============================] - 21s 396ms/step - loss: 0.0147 - accuracy: 0.9935 - val_loss: 1.2617 - val_accuracy: 0.7912\n",
            "Epoch 44/100\n",
            "53/53 [==============================] - 20s 386ms/step - loss: 0.0207 - accuracy: 0.9923 - val_loss: 1.6089 - val_accuracy: 0.7703\n",
            "Epoch 45/100\n",
            "53/53 [==============================] - 21s 387ms/step - loss: 0.0160 - accuracy: 0.9947 - val_loss: 1.4064 - val_accuracy: 0.7889\n",
            "Epoch 46/100\n",
            "53/53 [==============================] - 21s 395ms/step - loss: 0.0167 - accuracy: 0.9947 - val_loss: 1.3083 - val_accuracy: 0.8005\n",
            "Epoch 47/100\n",
            "53/53 [==============================] - 21s 390ms/step - loss: 0.0116 - accuracy: 0.9959 - val_loss: 1.4060 - val_accuracy: 0.7981\n",
            "Epoch 48/100\n",
            "53/53 [==============================] - 21s 391ms/step - loss: 0.0212 - accuracy: 0.9947 - val_loss: 1.2078 - val_accuracy: 0.8074\n",
            "Epoch 49/100\n",
            "53/53 [==============================] - 21s 393ms/step - loss: 0.0177 - accuracy: 0.9941 - val_loss: 1.4250 - val_accuracy: 0.7819\n",
            "Epoch 50/100\n",
            "53/53 [==============================] - 21s 392ms/step - loss: 0.0104 - accuracy: 0.9976 - val_loss: 1.4423 - val_accuracy: 0.7773\n",
            "Epoch 51/100\n",
            "53/53 [==============================] - 21s 389ms/step - loss: 0.0078 - accuracy: 0.9988 - val_loss: 1.3614 - val_accuracy: 0.7842\n",
            "Epoch 52/100\n",
            "53/53 [==============================] - 21s 387ms/step - loss: 0.0096 - accuracy: 0.9964 - val_loss: 1.3267 - val_accuracy: 0.7842\n",
            "Epoch 53/100\n",
            "53/53 [==============================] - 21s 389ms/step - loss: 0.0125 - accuracy: 0.9964 - val_loss: 1.3898 - val_accuracy: 0.7889\n",
            "Epoch 54/100\n",
            "53/53 [==============================] - 21s 390ms/step - loss: 0.0159 - accuracy: 0.9953 - val_loss: 1.9467 - val_accuracy: 0.7749\n",
            "Epoch 55/100\n",
            "53/53 [==============================] - 21s 389ms/step - loss: 0.0148 - accuracy: 0.9947 - val_loss: 1.5384 - val_accuracy: 0.7773\n",
            "Epoch 56/100\n",
            "53/53 [==============================] - 21s 391ms/step - loss: 0.0131 - accuracy: 0.9947 - val_loss: 1.7492 - val_accuracy: 0.7633\n",
            "Epoch 57/100\n",
            "53/53 [==============================] - 21s 394ms/step - loss: 0.0086 - accuracy: 0.9970 - val_loss: 2.0089 - val_accuracy: 0.7494\n",
            "Epoch 58/100\n",
            "53/53 [==============================] - 21s 396ms/step - loss: 0.0140 - accuracy: 0.9953 - val_loss: 1.7850 - val_accuracy: 0.7680\n",
            "Epoch 59/100\n",
            "53/53 [==============================] - 21s 389ms/step - loss: 0.0251 - accuracy: 0.9911 - val_loss: 1.8252 - val_accuracy: 0.7564\n",
            "Epoch 60/100\n",
            "53/53 [==============================] - 21s 392ms/step - loss: 0.0134 - accuracy: 0.9953 - val_loss: 2.0635 - val_accuracy: 0.7355\n",
            "Epoch 61/100\n",
            "53/53 [==============================] - 21s 395ms/step - loss: 0.0226 - accuracy: 0.9935 - val_loss: 2.2340 - val_accuracy: 0.7007\n",
            "Epoch 62/100\n",
            "53/53 [==============================] - 21s 390ms/step - loss: 0.0073 - accuracy: 0.9976 - val_loss: 2.5403 - val_accuracy: 0.6961\n",
            "Epoch 63/100\n",
            "53/53 [==============================] - 21s 392ms/step - loss: 0.0098 - accuracy: 0.9970 - val_loss: 2.2022 - val_accuracy: 0.7401\n",
            "Epoch 64/100\n",
            "53/53 [==============================] - 21s 395ms/step - loss: 0.0065 - accuracy: 0.9988 - val_loss: 2.1628 - val_accuracy: 0.7494\n",
            "Epoch 65/100\n",
            "53/53 [==============================] - 22s 406ms/step - loss: 0.0070 - accuracy: 0.9988 - val_loss: 2.1690 - val_accuracy: 0.7285\n",
            "Epoch 66/100\n",
            "53/53 [==============================] - 21s 405ms/step - loss: 0.0087 - accuracy: 0.9976 - val_loss: 1.7614 - val_accuracy: 0.7657\n",
            "Epoch 67/100\n",
            "53/53 [==============================] - 21s 401ms/step - loss: 0.0032 - accuracy: 0.9994 - val_loss: 1.7194 - val_accuracy: 0.7564\n",
            "Epoch 68/100\n",
            "53/53 [==============================] - 21s 395ms/step - loss: 0.0035 - accuracy: 0.9988 - val_loss: 1.7142 - val_accuracy: 0.7633\n",
            "Epoch 69/100\n",
            "53/53 [==============================] - 21s 400ms/step - loss: 0.0018 - accuracy: 1.0000 - val_loss: 1.6422 - val_accuracy: 0.7889\n",
            "Epoch 70/100\n",
            "53/53 [==============================] - 21s 397ms/step - loss: 0.0031 - accuracy: 0.9988 - val_loss: 1.6122 - val_accuracy: 0.7657\n",
            "Epoch 71/100\n",
            "53/53 [==============================] - 21s 395ms/step - loss: 0.0067 - accuracy: 0.9970 - val_loss: 1.3620 - val_accuracy: 0.7935\n",
            "Epoch 72/100\n",
            "53/53 [==============================] - 21s 395ms/step - loss: 0.0159 - accuracy: 0.9953 - val_loss: 2.0477 - val_accuracy: 0.7309\n",
            "Epoch 73/100\n",
            "53/53 [==============================] - 21s 391ms/step - loss: 0.0054 - accuracy: 0.9982 - val_loss: 2.1349 - val_accuracy: 0.7610\n",
            "Epoch 74/100\n",
            "53/53 [==============================] - 21s 389ms/step - loss: 0.0048 - accuracy: 0.9982 - val_loss: 1.6311 - val_accuracy: 0.7935\n",
            "Epoch 75/100\n",
            "53/53 [==============================] - 21s 395ms/step - loss: 0.0027 - accuracy: 0.9994 - val_loss: 1.6200 - val_accuracy: 0.7842\n",
            "Epoch 76/100\n",
            "53/53 [==============================] - 21s 396ms/step - loss: 0.0127 - accuracy: 0.9959 - val_loss: 1.8419 - val_accuracy: 0.7889\n",
            "Epoch 77/100\n",
            "53/53 [==============================] - 21s 391ms/step - loss: 0.0075 - accuracy: 0.9965 - val_loss: 1.5959 - val_accuracy: 0.8121\n",
            "Epoch 78/100\n",
            "53/53 [==============================] - 21s 392ms/step - loss: 0.0066 - accuracy: 0.9970 - val_loss: 1.8148 - val_accuracy: 0.7889\n",
            "Epoch 79/100\n",
            "53/53 [==============================] - 21s 394ms/step - loss: 0.0073 - accuracy: 0.9970 - val_loss: 1.9382 - val_accuracy: 0.7819\n",
            "Epoch 80/100\n",
            "53/53 [==============================] - 21s 395ms/step - loss: 0.0223 - accuracy: 0.9905 - val_loss: 2.3237 - val_accuracy: 0.7610\n",
            "Epoch 81/100\n",
            "53/53 [==============================] - 21s 391ms/step - loss: 0.0127 - accuracy: 0.9947 - val_loss: 2.0651 - val_accuracy: 0.7819\n",
            "Epoch 82/100\n",
            "53/53 [==============================] - 21s 391ms/step - loss: 0.0126 - accuracy: 0.9964 - val_loss: 2.2669 - val_accuracy: 0.7587\n",
            "Epoch 83/100\n",
            "53/53 [==============================] - 21s 391ms/step - loss: 0.0121 - accuracy: 0.9959 - val_loss: 1.8529 - val_accuracy: 0.7865\n",
            "Epoch 84/100\n",
            "53/53 [==============================] - 21s 395ms/step - loss: 0.0106 - accuracy: 0.9953 - val_loss: 1.9890 - val_accuracy: 0.7680\n",
            "Epoch 85/100\n",
            "53/53 [==============================] - 21s 392ms/step - loss: 0.0253 - accuracy: 0.9929 - val_loss: 1.7432 - val_accuracy: 0.7889\n",
            "Epoch 86/100\n",
            "53/53 [==============================] - 21s 391ms/step - loss: 0.0227 - accuracy: 0.9911 - val_loss: 2.1781 - val_accuracy: 0.7216\n",
            "Epoch 87/100\n",
            "53/53 [==============================] - 21s 396ms/step - loss: 0.0285 - accuracy: 0.9917 - val_loss: 1.4283 - val_accuracy: 0.7680\n",
            "Epoch 88/100\n",
            "53/53 [==============================] - 21s 389ms/step - loss: 0.0177 - accuracy: 0.9953 - val_loss: 1.8314 - val_accuracy: 0.7262\n",
            "Epoch 89/100\n",
            "53/53 [==============================] - 21s 391ms/step - loss: 0.0090 - accuracy: 0.9982 - val_loss: 1.7232 - val_accuracy: 0.7633\n",
            "Epoch 90/100\n",
            "53/53 [==============================] - 21s 388ms/step - loss: 0.0104 - accuracy: 0.9970 - val_loss: 1.7349 - val_accuracy: 0.7610\n",
            "Epoch 91/100\n",
            "53/53 [==============================] - 21s 388ms/step - loss: 0.0158 - accuracy: 0.9941 - val_loss: 1.8866 - val_accuracy: 0.7703\n",
            "Epoch 92/100\n",
            "53/53 [==============================] - 21s 392ms/step - loss: 0.0051 - accuracy: 0.9976 - val_loss: 2.1171 - val_accuracy: 0.7541\n",
            "Epoch 93/100\n",
            "53/53 [==============================] - 21s 393ms/step - loss: 0.0130 - accuracy: 0.9947 - val_loss: 2.1371 - val_accuracy: 0.7564\n",
            "Epoch 94/100\n",
            "53/53 [==============================] - 21s 390ms/step - loss: 0.0100 - accuracy: 0.9959 - val_loss: 1.9623 - val_accuracy: 0.7564\n",
            "Epoch 95/100\n",
            "53/53 [==============================] - 21s 396ms/step - loss: 0.0085 - accuracy: 0.9976 - val_loss: 1.7302 - val_accuracy: 0.7865\n",
            "Epoch 96/100\n",
            "53/53 [==============================] - 21s 391ms/step - loss: 0.0028 - accuracy: 0.9994 - val_loss: 1.7502 - val_accuracy: 0.7749\n",
            "Epoch 97/100\n",
            "53/53 [==============================] - 21s 391ms/step - loss: 0.0030 - accuracy: 0.9994 - val_loss: 1.6032 - val_accuracy: 0.7912\n",
            "Epoch 98/100\n",
            "53/53 [==============================] - 21s 394ms/step - loss: 0.0014 - accuracy: 1.0000 - val_loss: 1.6990 - val_accuracy: 0.8005\n",
            "Epoch 99/100\n",
            "53/53 [==============================] - 21s 394ms/step - loss: 0.0086 - accuracy: 0.9976 - val_loss: 1.7723 - val_accuracy: 0.7796\n",
            "Epoch 100/100\n",
            "53/53 [==============================] - 20s 384ms/step - loss: 0.0035 - accuracy: 0.9994 - val_loss: 1.6604 - val_accuracy: 0.7796\n"
          ],
          "name": "stdout"
        }
      ]
    },
    {
      "cell_type": "code",
      "metadata": {
        "id": "zFtOX9w8nYLZ",
        "colab_type": "code",
        "colab": {
          "base_uri": "https://localhost:8080/",
          "height": 51
        },
        "outputId": "b3dee6db-4d9c-4653-cb6a-bdfbc5f08bd1"
      },
      "source": [
        "# evaluate model\n",
        "_, acc = model.evaluate(testX, testY, verbose=1)\n",
        "print('> %.3f' % (acc * 100.0))"
      ],
      "execution_count": 10,
      "outputs": [
        {
          "output_type": "stream",
          "text": [
            "14/14 [==============================] - 1s 38ms/step - loss: 1.6604 - accuracy: 0.7796\n",
            "> 77.958\n"
          ],
          "name": "stdout"
        }
      ]
    },
    {
      "cell_type": "code",
      "metadata": {
        "id": "AUMRxx34nFIp",
        "colab_type": "code",
        "colab": {
          "base_uri": "https://localhost:8080/",
          "height": 295
        },
        "outputId": "772b2bf1-593f-46bf-f054-731c32d2f4e1"
      },
      "source": [
        "summarize_diagnostics(hist)"
      ],
      "execution_count": 11,
      "outputs": [
        {
          "output_type": "display_data",
          "data": {
            "image/png": "[encoded data removed]",
            "text/plain": [
              "<Figure size 432x288 with 1 Axes>"
            ]
          },
          "metadata": {
            "tags": [],
            "needs_background": "light"
          }
        }
      ]
    },
    {
      "cell_type": "markdown",
      "metadata": {
        "id": "LrCrAdqLbnEJ",
        "colab_type": "text"
      },
      "source": [
        "# Confusion matrix and classification report"
      ]
    },
    {
      "cell_type": "code",
      "metadata": {
        "id": "-ZIcyPJCRvKr",
        "colab_type": "code",
        "colab": {
          "base_uri": "https://localhost:8080/",
          "height": 119
        },
        "outputId": "8f7ddd19-6b85-4ce2-beca-116462137236"
      },
      "source": [
        "from sklearn.metrics import confusion_matrix,classification_report\n",
        "y_pred = model.predict(testX)\n",
        "y_p = np.argmax(y_pred,axis=1)\n",
        "y_true = np.argmax(testY,axis=1)\n",
        "print(confusion_matrix(y_true,y_p))"
      ],
      "execution_count": 15,
      "outputs": [
        {
          "output_type": "stream",
          "text": [
            "[[33  0  0  0  0  0]\n",
            " [ 1 56 14 16 10  1]\n",
            " [ 0  1 66  7  1  0]\n",
            " [ 0  0 10 74  7  0]\n",
            " [ 0  3  6 17 34  1]\n",
            " [ 0  0  0  0  0 73]]\n"
          ],
          "name": "stdout"
        }
      ]
    },
    {
      "cell_type": "code",
      "metadata": {
        "id": "7wyE6tMx-3ia",
        "colab_type": "code",
        "colab": {
          "base_uri": "https://localhost:8080/",
          "height": 255
        },
        "outputId": "fb124827-87f7-4ffe-cf1d-29ac1d2b149c"
      },
      "source": [
        "print('Classification report')\n",
        "print(classification_report(y_true,y_p))"
      ],
      "execution_count": 16,
      "outputs": [
        {
          "output_type": "stream",
          "text": [
            "Classification report\n",
            "              precision    recall  f1-score   support\n",
            "\n",
            "           0       0.97      1.00      0.99        33\n",
            "           1       0.93      0.57      0.71        98\n",
            "           2       0.69      0.88      0.77        75\n",
            "           3       0.65      0.81      0.72        91\n",
            "           4       0.65      0.56      0.60        61\n",
            "           5       0.97      1.00      0.99        73\n",
            "\n",
            "    accuracy                           0.78       431\n",
            "   macro avg       0.81      0.80      0.80       431\n",
            "weighted avg       0.80      0.78      0.78       431\n",
            "\n"
          ],
          "name": "stdout"
        }
      ]
    },
    {
      "cell_type": "markdown",
      "metadata": {
        "id": "Vx_GKtX4bxlV",
        "colab_type": "text"
      },
      "source": [
        "# CNN + SVM"
      ]
    },
    {
      "cell_type": "code",
      "metadata": {
        "id": "YqXbyvhF5hdk",
        "colab_type": "code",
        "colab": {}
      },
      "source": [
        "from sklearn.preprocessing import StandardScaler\n",
        "sc = StandardScaler()\n",
        "# extracting features using Transfer Learning\n",
        "model_new = Model(inputs = model.input,outputs = model.get_layer('global_average_pooling2d').output) \n",
        "train_new = sc.fit_transform(model_new.predict(trainX))\n",
        "test_new = sc.fit_transform(model_new.predict(testX))"
      ],
      "execution_count": 23,
      "outputs": []
    },
    {
      "cell_type": "code",
      "metadata": {
        "id": "EiLZAB909UhM",
        "colab_type": "code",
        "colab": {
          "base_uri": "https://localhost:8080/",
          "height": 51
        },
        "outputId": "dabc6f13-b4fd-4fe2-d8d0-90e6ba91d27b"
      },
      "source": [
        "\n",
        "from sklearn.svm import SVC\n",
        "svm = SVC(kernel='rbf')\n",
        "svm.fit(train_new,np.argmax(trainY,axis=1))\n",
        "sc1 = svm.score(train_new,np.argmax(trainY,axis=1))\n",
        "sc2 = svm.score(test_new,np.argmax(testY,axis=1))\n",
        "print('training accuracy of svm is : ',sc1)\n",
        "print('testing accuracy of svm is : ',sc2)"
      ],
      "execution_count": 24,
      "outputs": [
        {
          "output_type": "stream",
          "text": [
            "training accuracy of svm is :  1.0\n",
            "testing accuracy of svm is :  0.8213457076566125\n"
          ],
          "name": "stdout"
        }
      ]
    },
    {
      "cell_type": "markdown",
      "metadata": {
        "id": "YcRUtRROb4ni",
        "colab_type": "text"
      },
      "source": [
        "# CNN + XGBOOST\n"
      ]
    },
    {
      "cell_type": "code",
      "metadata": {
        "id": "jpYvIb-9ZAiY",
        "colab_type": "code",
        "colab": {
          "base_uri": "https://localhost:8080/",
          "height": 51
        },
        "outputId": "84c409e5-3440-4c26-c076-c48d978a02f9"
      },
      "source": [
        "from xgboost import XGBClassifier\n",
        "xg = XGBClassifier()\n",
        "xg.fit(train_new,np.argmax(trainY,axis=1))\n",
        "sc3 = xg.score(train_new,np.argmax(trainY,axis=1))\n",
        "sc4 = xg.score(test_new,np.argmax(testY,axis=1))\n",
        "print('training accuracy of xgboost is : ',sc3)\n",
        "print('testing accuracy of xgboost is : ',sc4)"
      ],
      "execution_count": 25,
      "outputs": [
        {
          "output_type": "stream",
          "text": [
            "training accuracy of xgboost is :  1.0\n",
            "testing accuracy of xgboost is :  0.8004640371229699\n"
          ],
          "name": "stdout"
        }
      ]
    }
  ]
}