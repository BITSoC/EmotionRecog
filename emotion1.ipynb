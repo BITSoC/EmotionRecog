{
  "nbformat": 4,
  "nbformat_minor": 0,
  "metadata": {
    "colab": {
      "name": "emotion1.ipynb",
      "provenance": []
    },
    "kernelspec": {
      "name": "python3",
      "display_name": "Python 3"
    },
    "accelerator": "GPU"
  },
  "cells": [
    {
      "cell_type": "code",
      "metadata": {
        "id": "UBtcvhCzIKcM",
        "colab_type": "code",
        "colab": {
          "base_uri": "https://localhost:8080/",
          "height": 34
        },
        "outputId": "ad7a1771-d16c-4827-fab7-124152850ef6"
      },
      "source": [
        "from google.colab import drive\n",
        "drive.mount('/content/gdrive',force_remount=True)"
      ],
      "execution_count": 1,
      "outputs": [
        {
          "output_type": "stream",
          "text": [
            "Mounted at /content/gdrive\n"
          ],
          "name": "stdout"
        }
      ]
    },
    {
      "cell_type": "code",
      "metadata": {
        "id": "RJnh3LbyIL5l",
        "colab_type": "code",
        "colab": {
          "base_uri": "https://localhost:8080/",
          "height": 52
        },
        "outputId": "c2e9b9b4-db8c-4b3c-fc28-923714d51849"
      },
      "source": [
        "import os\n",
        "import zipfile\n",
        "'''\n",
        "local_zip = '/content/gdrive/My Drive/Dockship/dataset.zip'\n",
        "zip_ref = zipfile.ZipFile(local_zip, 'r')\n",
        "\n",
        "zip_ref.extractall('/tmp')\n",
        "zip_ref.close()\n",
        "'''"
      ],
      "execution_count": 2,
      "outputs": [
        {
          "output_type": "execute_result",
          "data": {
            "application/vnd.google.colaboratory.intrinsic+json": {
              "type": "string"
            },
            "text/plain": [
              "\"\\nlocal_zip = '/content/gdrive/My Drive/Dockship/dataset.zip'\\nzip_ref = zipfile.ZipFile(local_zip, 'r')\\n\\nzip_ref.extractall('/tmp')\\nzip_ref.close()\\n\""
            ]
          },
          "metadata": {
            "tags": []
          },
          "execution_count": 2
        }
      ]
    },
    {
      "cell_type": "code",
      "metadata": {
        "id": "H3pMDg6ITM-I",
        "colab_type": "code",
        "colab": {}
      },
      "source": [
        "# baseline model with dropout and data augmentation on the cifar10 dataset\n",
        "import sys\n",
        "import tensorflow as tf\n",
        "from matplotlib import pyplot\n",
        "from keras.utils import to_categorical\n",
        "from keras.models import Sequential\n",
        "from keras.layers import Conv2D,MaxPooling2D,Dense,Flatten,Dropout,BatchNormalization,AveragePooling2D\n",
        "from keras.optimizers import SGD\n",
        "from keras.preprocessing.image import ImageDataGenerator\n",
        "from sklearn.model_selection import train_test_split\n",
        "from keras.preprocessing.image import img_to_array\n",
        "from keras.preprocessing.image import load_img\n",
        "from imutils import paths\n",
        "import matplotlib.pyplot as plt\n",
        "import numpy as np\n",
        "import random\n",
        "import os"
      ],
      "execution_count": 3,
      "outputs": []
    },
    {
      "cell_type": "code",
      "metadata": {
        "id": "8N63dW1iIoO5",
        "colab_type": "code",
        "colab": {}
      },
      "source": [
        "data_train = '/content/gdrive/My Drive/emo'"
      ],
      "execution_count": 4,
      "outputs": []
    },
    {
      "cell_type": "code",
      "metadata": {
        "id": "HsddBMnmTPSX",
        "colab_type": "code",
        "colab": {
          "base_uri": "https://localhost:8080/",
          "height": 51
        },
        "outputId": "e6463c04-49bb-4682-d27b-5173f3f61d1f"
      },
      "source": [
        "imagepaths = list(paths.list_images(data_train))\n",
        "random.shuffle(imagepaths)\n",
        "random.seed(42)\n",
        "data_images = []\n",
        "labels = []\n",
        "for imgpath in imagepaths:\n",
        "\tlabel = imgpath.split(os.path.sep)[-2]\n",
        "\timg = load_img(imgpath, target_size=(32, 32))\n",
        "\tdata_images.append(img_to_array(img)/255.)\n",
        "\tlabels.append(label) "
      ],
      "execution_count": 5,
      "outputs": [
        {
          "output_type": "stream",
          "text": [
            "/usr/local/lib/python3.6/dist-packages/PIL/Image.py:932: UserWarning: Palette images with Transparency expressed in bytes should be converted to RGBA images\n",
            "  \"Palette images with Transparency expressed in bytes should be \"\n"
          ],
          "name": "stderr"
        }
      ]
    },
    {
      "cell_type": "code",
      "metadata": {
        "id": "Zdd2zWMvDp8d",
        "colab_type": "code",
        "colab": {}
      },
      "source": [
        "from sklearn.preprocessing import LabelEncoder\n",
        "lb = LabelEncoder()\n",
        "labels_z = lb.fit_transform(np.array(labels))\n",
        "labels_value = to_categorical(labels_z,num_classes=6)\n",
        "data = np.array(data_images,dtype='float32')"
      ],
      "execution_count": 13,
      "outputs": []
    },
    {
      "cell_type": "code",
      "metadata": {
        "id": "8ZIwxrwYq2ZI",
        "colab_type": "code",
        "colab": {}
      },
      "source": [
        "trainX, testX,trainY, testY = train_test_split(data, labels_value,test_size=0.2, random_state=42,shuffle = True)"
      ],
      "execution_count": 14,
      "outputs": []
    },
    {
      "cell_type": "code",
      "metadata": {
        "id": "CKhQTfr3oGVT",
        "colab_type": "code",
        "colab": {}
      },
      "source": [
        "def define_model():\n",
        "\tmodel = Sequential()\n",
        "\tmodel.add(Conv2D(32, (3, 3), activation='relu', kernel_initializer='he_uniform', padding='same', input_shape=(32, 32, 3)))\n",
        "\tmodel.add(BatchNormalization())\n",
        "\tmodel.add(Conv2D(32, (3, 3), activation='relu', kernel_initializer='he_uniform', padding='same'))\n",
        "\tmodel.add(BatchNormalization())\n",
        "\tmodel.add(MaxPooling2D((2, 2)))\n",
        "\tmodel.add(Dropout(0.1))\n",
        "\tmodel.add(Conv2D(64, (3, 3), activation='relu', kernel_initializer='he_uniform', padding='same'))\n",
        "\tmodel.add(BatchNormalization())\n",
        "\tmodel.add(Conv2D(64, (3, 3), activation='relu', kernel_initializer='he_uniform', padding='same'))\n",
        "\tmodel.add(BatchNormalization())\n",
        "\tmodel.add(MaxPooling2D((2, 2)))\n",
        "\tmodel.add(Dropout(0.2))\n",
        "\tmodel.add(Conv2D(128, (3, 3), activation='relu', kernel_initializer='he_uniform', padding='same'))\n",
        "\tmodel.add(BatchNormalization())\n",
        "\tmodel.add(Conv2D(128, (3, 3), activation='relu', kernel_initializer='he_uniform', padding='same'))\n",
        "\tmodel.add(BatchNormalization())\n",
        "\tmodel.add(MaxPooling2D((2, 2)))\n",
        "\tmodel.add(Dropout(0.3))\n",
        "\tmodel.add(Conv2D(128, (3, 3), activation='relu', kernel_initializer='he_uniform', padding='same'))\n",
        "\tmodel.add(BatchNormalization())\n",
        "\tmodel.add(Conv2D(128, (3, 3), activation='relu', kernel_initializer='he_uniform', padding='same'))\n",
        "\tmodel.add(BatchNormalization())\n",
        "\tmodel.add(MaxPooling2D((2, 2)))\n",
        "\tmodel.add(Dropout(0.4))\n",
        "\tmodel.add(Conv2D(128, (3, 3), activation='relu', kernel_initializer='he_uniform', padding='same'))\n",
        "\tmodel.add(BatchNormalization())\n",
        "\tmodel.add(Conv2D(128, (3, 3), activation='relu', kernel_initializer='he_uniform', padding='same'))\n",
        "\tmodel.add(BatchNormalization())\n",
        "\tmodel.add(MaxPooling2D((2, 2)))\n",
        "\tmodel.add(Dropout(0.5))\n",
        "\tmodel.add(Flatten())\n",
        "\tmodel.add(Dense(128, activation='relu', kernel_initializer='he_uniform'))\n",
        "\tmodel.add(BatchNormalization())\n",
        "\tmodel.add(Dropout(0.5))\n",
        "\tmodel.add(Dense(128, activation='relu', kernel_initializer='he_uniform'));return model\n",
        "\n",
        "mobile = define_model()"
      ],
      "execution_count": 8,
      "outputs": []
    },
    {
      "cell_type": "code",
      "metadata": {
        "id": "wS_ym8KTqOly",
        "colab_type": "code",
        "colab": {}
      },
      "source": [
        "op_layer = mobile.output\n",
        "final_layer = Dense(128,activation='relu',kernel_initializer='he_uniform')(op_layer)\n",
        "final_layer = Dense(128,activation='relu',kernel_initializer='he_uniform')(final_layer)\n",
        "final_layer = Dense(6,activation= 'softmax')(final_layer)\n",
        "from keras.models  import Model\n",
        "# Define model input and output\n",
        "model = Model(inputs = mobile.input , outputs = final_layer)\n",
        "opt = SGD(lr=0.01, momentum=0.9)\n",
        "import keras\n",
        "optimizer_sgd = keras.optimizers.Adam(learning_rate=0.001)\n",
        "model.compile(optimizer=opt, loss='categorical_crossentropy', metrics=['accuracy'])"
      ],
      "execution_count": 18,
      "outputs": []
    },
    {
      "cell_type": "code",
      "metadata": {
        "id": "IatTCOv4TXlB",
        "colab_type": "code",
        "colab": {}
      },
      "source": [
        "'''\n",
        "# define cnn model\n",
        "def define_model():\n",
        "\tmodel = Sequential()\n",
        "\tmodel.add(Conv2D(32, (3, 3), activation='relu', kernel_initializer='he_uniform', padding='same', input_shape=(32, 32, 3)))\n",
        "\tmodel.add(BatchNormalization())\n",
        "\tmodel.add(Conv2D(32, (3, 3), activation='relu', kernel_initializer='he_uniform', padding='same'))\n",
        "\tmodel.add(BatchNormalization())\n",
        "\tmodel.add(MaxPooling2D((2, 2)))\n",
        "\tmodel.add(Dropout(0.2))\n",
        "\tmodel.add(Conv2D(64, (3, 3), activation='relu', kernel_initializer='he_uniform', padding='same'))\n",
        "\tmodel.add(BatchNormalization())\n",
        "\tmodel.add(Conv2D(64, (3, 3), activation='relu', kernel_initializer='he_uniform', padding='same'))\n",
        "\tmodel.add(BatchNormalization())\n",
        "\tmodel.add(MaxPooling2D((2, 2)))\n",
        "\tmodel.add(Dropout(0.3))\n",
        "\tmodel.add(Conv2D(128, (3, 3), activation='relu', kernel_initializer='he_uniform', padding='same'))\n",
        "\tmodel.add(BatchNormalization())\n",
        "\tmodel.add(Conv2D(128, (3, 3), activation='relu', kernel_initializer='he_uniform', padding='same'))\n",
        "\tmodel.add(BatchNormalization())\n",
        "\tmodel.add(MaxPooling2D((2, 2)))\n",
        "\tmodel.add(Dropout(0.4))\n",
        "\tmodel.add(Flatten())\n",
        "\tmodel.add(Dense(128, activation='relu', kernel_initializer='he_uniform'))\n",
        "\tmodel.add(BatchNormalization())\n",
        "\tmodel.add(Dropout(0.5))\n",
        "\tmodel.add(Dense(128, activation='relu', kernel_initializer='he_uniform'))\n",
        "\tmodel.add(Dense(10, activation='softmax'))\n",
        "\t# compile model\n",
        "\topt = SGD(lr=0.001, momentum=0.9)\n",
        "\tmodel.compile(optimizer=opt, loss='categorical_crossentropy', metrics=['accuracy'])\n",
        "\treturn model\n",
        "\n",
        "# define model\n",
        "cnn = define_model()\n",
        "'''"
      ],
      "execution_count": null,
      "outputs": []
    },
    {
      "cell_type": "code",
      "metadata": {
        "id": "iGR349OMTejy",
        "colab_type": "code",
        "colab": {}
      },
      "source": [
        "# plot diagnostic learning curves\n",
        "import matplotlib.pyplot as plt\n",
        "def summarize_diagnostics(hist):\n",
        "\tplt.plot(hist.history[\"accuracy\"])\n",
        "\tplt.plot(hist.history['val_accuracy'])\n",
        "\tplt.plot(hist.history['loss'])\n",
        "\tplt.plot(hist.history['val_loss'])\n",
        "\tplt.title(\"model accuracy\")\n",
        "\tplt.ylabel(\"Accuracy\")\n",
        "\tplt.xlabel(\"Epoch\")\n",
        "\tplt.legend([\"Accuracy\",\"Validation Accuracy\",\"loss\",\"Validation Loss\"])\n",
        "\tplt.show()"
      ],
      "execution_count": 9,
      "outputs": []
    },
    {
      "cell_type": "code",
      "metadata": {
        "id": "tE7Cv8uDO7FC",
        "colab_type": "code",
        "colab": {
          "base_uri": "https://localhost:8080/",
          "height": 1000
        },
        "outputId": "304764b4-0172-4c9e-de50-452545170f73"
      },
      "source": [
        "# run the test harness for evaluating a model\n",
        "def run_test_harness():\n",
        "\t# create data generator\n",
        "\tdatagen = ImageDataGenerator(width_shift_range=0.1, height_shift_range=0.1, horizontal_flip=True,zoom_range=0.1)\n",
        "\t# prepare iterator\n",
        "\tit_train = datagen.flow(trainX, trainY, batch_size=32)\n",
        "\t# fit model\n",
        "\tsteps = int(trainX.shape[0] / 32)\n",
        "\thist = model.fit_generator(it_train, steps_per_epoch=steps, epochs=100, validation_data=(testX, testY), verbose=1)\n",
        "\t# evaluate model\n",
        "\t_, acc = model.evaluate(testX, testY, verbose=1)\n",
        "\tprint('> %.3f' % (acc * 100.0))\n",
        "\t# learning curves\n",
        "\tsummarize_diagnostics(hist)\n",
        "\n",
        "# entry point, run the test harness\n",
        "run_test_harness()"
      ],
      "execution_count": 22,
      "outputs": [
        {
          "output_type": "stream",
          "text": [
            "Epoch 1/100\n",
            "53/53 [==============================] - 1s 19ms/step - loss: 0.1396 - accuracy: 0.9527 - val_loss: 6.4150 - val_accuracy: 0.4107\n",
            "Epoch 2/100\n",
            "53/53 [==============================] - 1s 18ms/step - loss: 0.0975 - accuracy: 0.9669 - val_loss: 3.2035 - val_accuracy: 0.5104\n",
            "Epoch 3/100\n",
            "53/53 [==============================] - 1s 19ms/step - loss: 0.0936 - accuracy: 0.9686 - val_loss: 2.1054 - val_accuracy: 0.6218\n",
            "Epoch 4/100\n",
            "53/53 [==============================] - 1s 19ms/step - loss: 0.0746 - accuracy: 0.9710 - val_loss: 2.0727 - val_accuracy: 0.6009\n",
            "Epoch 5/100\n",
            "53/53 [==============================] - 1s 19ms/step - loss: 0.0631 - accuracy: 0.9811 - val_loss: 2.1734 - val_accuracy: 0.6241\n",
            "Epoch 6/100\n",
            "53/53 [==============================] - 1s 20ms/step - loss: 0.0748 - accuracy: 0.9763 - val_loss: 2.3021 - val_accuracy: 0.6218\n",
            "Epoch 7/100\n",
            "53/53 [==============================] - 1s 19ms/step - loss: 0.0720 - accuracy: 0.9781 - val_loss: 2.0899 - val_accuracy: 0.6404\n",
            "Epoch 8/100\n",
            "53/53 [==============================] - 1s 19ms/step - loss: 0.0959 - accuracy: 0.9781 - val_loss: 2.1596 - val_accuracy: 0.6148\n",
            "Epoch 9/100\n",
            "53/53 [==============================] - 1s 20ms/step - loss: 0.0676 - accuracy: 0.9763 - val_loss: 2.2129 - val_accuracy: 0.6381\n",
            "Epoch 10/100\n",
            "53/53 [==============================] - 1s 20ms/step - loss: 0.0829 - accuracy: 0.9746 - val_loss: 1.9519 - val_accuracy: 0.6589\n",
            "Epoch 11/100\n",
            "53/53 [==============================] - 1s 19ms/step - loss: 0.0838 - accuracy: 0.9710 - val_loss: 1.8399 - val_accuracy: 0.6450\n",
            "Epoch 12/100\n",
            "53/53 [==============================] - 1s 19ms/step - loss: 0.0775 - accuracy: 0.9781 - val_loss: 2.0152 - val_accuracy: 0.6497\n",
            "Epoch 13/100\n",
            "53/53 [==============================] - 1s 19ms/step - loss: 0.0901 - accuracy: 0.9751 - val_loss: 1.9303 - val_accuracy: 0.6613\n",
            "Epoch 14/100\n",
            "53/53 [==============================] - 1s 20ms/step - loss: 0.0976 - accuracy: 0.9716 - val_loss: 1.8233 - val_accuracy: 0.6450\n",
            "Epoch 15/100\n",
            "53/53 [==============================] - 1s 20ms/step - loss: 0.0639 - accuracy: 0.9757 - val_loss: 2.2179 - val_accuracy: 0.6172\n",
            "Epoch 16/100\n",
            "53/53 [==============================] - 1s 18ms/step - loss: 0.0613 - accuracy: 0.9781 - val_loss: 1.9885 - val_accuracy: 0.6427\n",
            "Epoch 17/100\n",
            "53/53 [==============================] - 1s 19ms/step - loss: 0.0651 - accuracy: 0.9822 - val_loss: 1.9023 - val_accuracy: 0.6520\n",
            "Epoch 18/100\n",
            "53/53 [==============================] - 1s 20ms/step - loss: 0.0655 - accuracy: 0.9799 - val_loss: 2.0226 - val_accuracy: 0.6589\n",
            "Epoch 19/100\n",
            "53/53 [==============================] - 1s 20ms/step - loss: 0.0564 - accuracy: 0.9781 - val_loss: 2.3831 - val_accuracy: 0.6172\n",
            "Epoch 20/100\n",
            "53/53 [==============================] - 1s 19ms/step - loss: 0.0585 - accuracy: 0.9852 - val_loss: 2.2270 - val_accuracy: 0.6288\n",
            "Epoch 21/100\n",
            "53/53 [==============================] - 1s 19ms/step - loss: 0.0715 - accuracy: 0.9781 - val_loss: 2.0477 - val_accuracy: 0.6613\n",
            "Epoch 22/100\n",
            "53/53 [==============================] - 1s 19ms/step - loss: 0.0602 - accuracy: 0.9799 - val_loss: 2.1312 - val_accuracy: 0.6404\n",
            "Epoch 23/100\n",
            "53/53 [==============================] - 1s 18ms/step - loss: 0.0552 - accuracy: 0.9846 - val_loss: 1.9189 - val_accuracy: 0.6497\n",
            "Epoch 24/100\n",
            "53/53 [==============================] - 1s 18ms/step - loss: 0.0495 - accuracy: 0.9811 - val_loss: 2.1522 - val_accuracy: 0.6288\n",
            "Epoch 25/100\n",
            "53/53 [==============================] - 1s 19ms/step - loss: 0.0805 - accuracy: 0.9769 - val_loss: 2.0795 - val_accuracy: 0.6450\n",
            "Epoch 26/100\n",
            "53/53 [==============================] - 1s 18ms/step - loss: 0.0577 - accuracy: 0.9817 - val_loss: 2.0498 - val_accuracy: 0.6357\n",
            "Epoch 27/100\n",
            "53/53 [==============================] - 1s 19ms/step - loss: 0.0648 - accuracy: 0.9817 - val_loss: 2.0856 - val_accuracy: 0.6311\n",
            "Epoch 28/100\n",
            "53/53 [==============================] - 1s 19ms/step - loss: 0.0522 - accuracy: 0.9840 - val_loss: 2.1209 - val_accuracy: 0.6357\n",
            "Epoch 29/100\n",
            "53/53 [==============================] - 1s 19ms/step - loss: 0.0865 - accuracy: 0.9781 - val_loss: 1.8623 - val_accuracy: 0.6311\n",
            "Epoch 30/100\n",
            "53/53 [==============================] - 1s 20ms/step - loss: 0.0452 - accuracy: 0.9911 - val_loss: 2.1666 - val_accuracy: 0.6497\n",
            "Epoch 31/100\n",
            "53/53 [==============================] - 1s 19ms/step - loss: 0.0802 - accuracy: 0.9757 - val_loss: 1.8808 - val_accuracy: 0.6543\n",
            "Epoch 32/100\n",
            "53/53 [==============================] - 1s 20ms/step - loss: 0.0664 - accuracy: 0.9769 - val_loss: 2.3339 - val_accuracy: 0.6497\n",
            "Epoch 33/100\n",
            "53/53 [==============================] - 1s 18ms/step - loss: 0.0533 - accuracy: 0.9876 - val_loss: 2.0501 - val_accuracy: 0.6357\n",
            "Epoch 34/100\n",
            "53/53 [==============================] - 1s 19ms/step - loss: 0.0528 - accuracy: 0.9840 - val_loss: 2.0812 - val_accuracy: 0.6543\n",
            "Epoch 35/100\n",
            "53/53 [==============================] - 1s 19ms/step - loss: 0.0497 - accuracy: 0.9870 - val_loss: 2.2422 - val_accuracy: 0.6473\n",
            "Epoch 36/100\n",
            "53/53 [==============================] - 1s 19ms/step - loss: 0.0447 - accuracy: 0.9846 - val_loss: 2.3549 - val_accuracy: 0.6334\n",
            "Epoch 37/100\n",
            "53/53 [==============================] - 1s 20ms/step - loss: 0.0417 - accuracy: 0.9876 - val_loss: 2.1104 - val_accuracy: 0.6450\n",
            "Epoch 38/100\n",
            "53/53 [==============================] - 1s 19ms/step - loss: 0.0380 - accuracy: 0.9882 - val_loss: 2.2362 - val_accuracy: 0.6520\n",
            "Epoch 39/100\n",
            "53/53 [==============================] - 1s 19ms/step - loss: 0.0449 - accuracy: 0.9864 - val_loss: 2.1183 - val_accuracy: 0.6613\n",
            "Epoch 40/100\n",
            "53/53 [==============================] - 1s 20ms/step - loss: 0.0307 - accuracy: 0.9905 - val_loss: 2.2630 - val_accuracy: 0.6520\n",
            "Epoch 41/100\n",
            "53/53 [==============================] - 1s 20ms/step - loss: 0.0548 - accuracy: 0.9840 - val_loss: 2.1238 - val_accuracy: 0.6520\n",
            "Epoch 42/100\n",
            "53/53 [==============================] - 1s 19ms/step - loss: 0.0687 - accuracy: 0.9734 - val_loss: 2.0160 - val_accuracy: 0.6659\n",
            "Epoch 43/100\n",
            "53/53 [==============================] - 1s 19ms/step - loss: 0.0538 - accuracy: 0.9828 - val_loss: 2.0364 - val_accuracy: 0.6427\n",
            "Epoch 44/100\n",
            "53/53 [==============================] - 1s 19ms/step - loss: 0.0566 - accuracy: 0.9799 - val_loss: 2.1153 - val_accuracy: 0.6427\n",
            "Epoch 45/100\n",
            "53/53 [==============================] - 1s 19ms/step - loss: 0.0722 - accuracy: 0.9775 - val_loss: 2.1488 - val_accuracy: 0.6404\n",
            "Epoch 46/100\n",
            "53/53 [==============================] - 1s 19ms/step - loss: 0.0377 - accuracy: 0.9858 - val_loss: 2.2685 - val_accuracy: 0.6404\n",
            "Epoch 47/100\n",
            "53/53 [==============================] - 1s 19ms/step - loss: 0.0470 - accuracy: 0.9840 - val_loss: 2.2141 - val_accuracy: 0.6357\n",
            "Epoch 48/100\n",
            "53/53 [==============================] - 1s 20ms/step - loss: 0.0403 - accuracy: 0.9870 - val_loss: 2.6540 - val_accuracy: 0.6172\n",
            "Epoch 49/100\n",
            "53/53 [==============================] - 1s 19ms/step - loss: 0.0448 - accuracy: 0.9846 - val_loss: 2.6525 - val_accuracy: 0.6357\n",
            "Epoch 50/100\n",
            "53/53 [==============================] - 1s 19ms/step - loss: 0.0662 - accuracy: 0.9811 - val_loss: 2.3353 - val_accuracy: 0.6404\n",
            "Epoch 51/100\n",
            "53/53 [==============================] - 1s 19ms/step - loss: 0.0707 - accuracy: 0.9763 - val_loss: 2.0454 - val_accuracy: 0.6148\n",
            "Epoch 52/100\n",
            "53/53 [==============================] - 1s 19ms/step - loss: 0.0561 - accuracy: 0.9811 - val_loss: 2.0332 - val_accuracy: 0.6404\n",
            "Epoch 53/100\n",
            "53/53 [==============================] - 1s 18ms/step - loss: 0.0486 - accuracy: 0.9864 - val_loss: 2.1659 - val_accuracy: 0.6357\n",
            "Epoch 54/100\n",
            "53/53 [==============================] - 1s 18ms/step - loss: 0.0372 - accuracy: 0.9858 - val_loss: 2.2628 - val_accuracy: 0.6497\n",
            "Epoch 55/100\n",
            "53/53 [==============================] - 1s 19ms/step - loss: 0.0373 - accuracy: 0.9893 - val_loss: 2.2110 - val_accuracy: 0.6381\n",
            "Epoch 56/100\n",
            "53/53 [==============================] - 1s 18ms/step - loss: 0.0346 - accuracy: 0.9893 - val_loss: 2.1948 - val_accuracy: 0.6265\n",
            "Epoch 57/100\n",
            "53/53 [==============================] - 1s 19ms/step - loss: 0.0518 - accuracy: 0.9893 - val_loss: 2.3531 - val_accuracy: 0.6218\n",
            "Epoch 58/100\n",
            "53/53 [==============================] - 1s 18ms/step - loss: 0.0436 - accuracy: 0.9852 - val_loss: 2.3946 - val_accuracy: 0.6450\n",
            "Epoch 59/100\n",
            "53/53 [==============================] - 1s 18ms/step - loss: 0.0694 - accuracy: 0.9781 - val_loss: 1.9728 - val_accuracy: 0.6566\n",
            "Epoch 60/100\n",
            "53/53 [==============================] - 1s 19ms/step - loss: 0.0433 - accuracy: 0.9870 - val_loss: 2.1791 - val_accuracy: 0.6497\n",
            "Epoch 61/100\n",
            "53/53 [==============================] - 1s 19ms/step - loss: 0.0513 - accuracy: 0.9846 - val_loss: 2.1685 - val_accuracy: 0.6566\n",
            "Epoch 62/100\n",
            "53/53 [==============================] - 1s 19ms/step - loss: 0.0499 - accuracy: 0.9870 - val_loss: 2.1751 - val_accuracy: 0.6497\n",
            "Epoch 63/100\n",
            "53/53 [==============================] - 1s 19ms/step - loss: 0.0450 - accuracy: 0.9864 - val_loss: 2.3309 - val_accuracy: 0.6473\n",
            "Epoch 64/100\n",
            "53/53 [==============================] - 1s 19ms/step - loss: 0.0588 - accuracy: 0.9858 - val_loss: 2.0158 - val_accuracy: 0.6497\n",
            "Epoch 65/100\n",
            "53/53 [==============================] - 1s 18ms/step - loss: 0.0341 - accuracy: 0.9929 - val_loss: 2.1294 - val_accuracy: 0.6357\n",
            "Epoch 66/100\n",
            "53/53 [==============================] - 1s 19ms/step - loss: 0.0393 - accuracy: 0.9864 - val_loss: 2.4338 - val_accuracy: 0.6102\n",
            "Epoch 67/100\n",
            "53/53 [==============================] - 1s 19ms/step - loss: 0.0642 - accuracy: 0.9840 - val_loss: 2.0737 - val_accuracy: 0.6497\n",
            "Epoch 68/100\n",
            "53/53 [==============================] - 1s 19ms/step - loss: 0.0493 - accuracy: 0.9882 - val_loss: 2.3009 - val_accuracy: 0.6172\n",
            "Epoch 69/100\n",
            "53/53 [==============================] - 1s 19ms/step - loss: 0.0437 - accuracy: 0.9864 - val_loss: 2.2032 - val_accuracy: 0.6450\n",
            "Epoch 70/100\n",
            "53/53 [==============================] - 1s 19ms/step - loss: 0.0428 - accuracy: 0.9870 - val_loss: 2.1772 - val_accuracy: 0.6729\n",
            "Epoch 71/100\n",
            "53/53 [==============================] - 1s 19ms/step - loss: 0.0338 - accuracy: 0.9882 - val_loss: 2.2398 - val_accuracy: 0.6636\n",
            "Epoch 72/100\n",
            "53/53 [==============================] - 1s 19ms/step - loss: 0.0491 - accuracy: 0.9858 - val_loss: 2.1796 - val_accuracy: 0.6497\n",
            "Epoch 73/100\n",
            "53/53 [==============================] - 1s 20ms/step - loss: 0.0436 - accuracy: 0.9852 - val_loss: 2.1919 - val_accuracy: 0.6357\n",
            "Epoch 74/100\n",
            "53/53 [==============================] - 1s 19ms/step - loss: 0.0388 - accuracy: 0.9911 - val_loss: 2.2035 - val_accuracy: 0.6404\n",
            "Epoch 75/100\n",
            "53/53 [==============================] - 1s 19ms/step - loss: 0.0268 - accuracy: 0.9911 - val_loss: 2.3088 - val_accuracy: 0.6288\n",
            "Epoch 76/100\n",
            "53/53 [==============================] - 1s 19ms/step - loss: 0.0327 - accuracy: 0.9876 - val_loss: 2.4632 - val_accuracy: 0.6172\n",
            "Epoch 77/100\n",
            "53/53 [==============================] - 1s 19ms/step - loss: 0.0339 - accuracy: 0.9888 - val_loss: 2.4684 - val_accuracy: 0.6311\n",
            "Epoch 78/100\n",
            "53/53 [==============================] - 1s 19ms/step - loss: 0.0261 - accuracy: 0.9935 - val_loss: 2.5700 - val_accuracy: 0.6288\n",
            "Epoch 79/100\n",
            "53/53 [==============================] - 1s 19ms/step - loss: 0.0304 - accuracy: 0.9899 - val_loss: 2.4657 - val_accuracy: 0.6450\n",
            "Epoch 80/100\n",
            "53/53 [==============================] - 1s 19ms/step - loss: 0.0450 - accuracy: 0.9876 - val_loss: 2.3837 - val_accuracy: 0.6450\n",
            "Epoch 81/100\n",
            "53/53 [==============================] - 1s 19ms/step - loss: 0.0622 - accuracy: 0.9787 - val_loss: 2.0901 - val_accuracy: 0.6543\n",
            "Epoch 82/100\n",
            "53/53 [==============================] - 1s 19ms/step - loss: 0.0647 - accuracy: 0.9793 - val_loss: 1.8990 - val_accuracy: 0.6404\n",
            "Epoch 83/100\n",
            "53/53 [==============================] - 1s 19ms/step - loss: 0.0562 - accuracy: 0.9834 - val_loss: 1.9701 - val_accuracy: 0.6473\n",
            "Epoch 84/100\n",
            "53/53 [==============================] - 1s 19ms/step - loss: 0.0220 - accuracy: 0.9911 - val_loss: 2.2666 - val_accuracy: 0.6427\n",
            "Epoch 85/100\n",
            "53/53 [==============================] - 1s 19ms/step - loss: 0.0394 - accuracy: 0.9846 - val_loss: 2.2147 - val_accuracy: 0.6543\n",
            "Epoch 86/100\n",
            "53/53 [==============================] - 1s 19ms/step - loss: 0.0251 - accuracy: 0.9911 - val_loss: 2.5570 - val_accuracy: 0.6357\n",
            "Epoch 87/100\n",
            "53/53 [==============================] - 1s 19ms/step - loss: 0.0419 - accuracy: 0.9882 - val_loss: 2.2803 - val_accuracy: 0.6288\n",
            "Epoch 88/100\n",
            "53/53 [==============================] - 1s 20ms/step - loss: 0.0425 - accuracy: 0.9834 - val_loss: 2.2721 - val_accuracy: 0.6589\n",
            "Epoch 89/100\n",
            "53/53 [==============================] - 1s 19ms/step - loss: 0.0813 - accuracy: 0.9775 - val_loss: 2.1275 - val_accuracy: 0.6334\n",
            "Epoch 90/100\n",
            "53/53 [==============================] - 1s 20ms/step - loss: 0.0411 - accuracy: 0.9882 - val_loss: 2.2403 - val_accuracy: 0.6427\n",
            "Epoch 91/100\n",
            "53/53 [==============================] - 1s 19ms/step - loss: 0.0291 - accuracy: 0.9929 - val_loss: 2.3579 - val_accuracy: 0.6357\n",
            "Epoch 92/100\n",
            "53/53 [==============================] - 1s 20ms/step - loss: 0.0882 - accuracy: 0.9757 - val_loss: 2.1148 - val_accuracy: 0.6172\n",
            "Epoch 93/100\n",
            "53/53 [==============================] - 1s 19ms/step - loss: 0.0451 - accuracy: 0.9870 - val_loss: 2.1535 - val_accuracy: 0.6543\n",
            "Epoch 94/100\n",
            "53/53 [==============================] - 1s 19ms/step - loss: 0.0415 - accuracy: 0.9846 - val_loss: 2.0376 - val_accuracy: 0.6520\n",
            "Epoch 95/100\n",
            "53/53 [==============================] - 1s 19ms/step - loss: 0.0267 - accuracy: 0.9923 - val_loss: 2.1481 - val_accuracy: 0.6520\n",
            "Epoch 96/100\n",
            "53/53 [==============================] - 1s 19ms/step - loss: 0.0303 - accuracy: 0.9893 - val_loss: 2.4766 - val_accuracy: 0.6311\n",
            "Epoch 97/100\n",
            "53/53 [==============================] - 1s 19ms/step - loss: 0.0287 - accuracy: 0.9893 - val_loss: 2.4564 - val_accuracy: 0.6589\n",
            "Epoch 98/100\n",
            "53/53 [==============================] - 1s 19ms/step - loss: 0.0480 - accuracy: 0.9876 - val_loss: 2.0711 - val_accuracy: 0.6543\n",
            "Epoch 99/100\n",
            "53/53 [==============================] - 1s 19ms/step - loss: 0.0272 - accuracy: 0.9882 - val_loss: 2.2237 - val_accuracy: 0.6659\n",
            "Epoch 100/100\n",
            "53/53 [==============================] - 1s 19ms/step - loss: 0.0425 - accuracy: 0.9876 - val_loss: 2.3098 - val_accuracy: 0.6450\n",
            "14/14 [==============================] - 0s 4ms/step - loss: 2.3098 - accuracy: 0.6450\n",
            "> 64.501\n"
          ],
          "name": "stdout"
        },
        {
          "output_type": "display_data",
          "data": {
            "image/png": "[encoded data removed]",
            "text/plain": [
              "<Figure size 432x288 with 1 Axes>"
            ]
          },
          "metadata": {
            "tags": [],
            "needs_background": "light"
          }
        }
      ]
    },
    {
      "cell_type": "code",
      "metadata": {
        "id": "xE96kUIdWnTK",
        "colab_type": "code",
        "colab": {}
      },
      "source": [
        "model.save('/content/gdrive/My Drive/Dockship/model4.h5')"
      ],
      "execution_count": null,
      "outputs": []
    },
    {
      "cell_type": "code",
      "metadata": {
        "id": "-ZIcyPJCRvKr",
        "colab_type": "code",
        "colab": {
          "base_uri": "https://localhost:8080/",
          "height": 357
        },
        "outputId": "ecebc4c3-ef74-4612-a5c2-2da6c728b0ad"
      },
      "source": [
        "from sklearn.metrics import confusion_matrix,classification_report\n",
        "y_pred = model.predict(testX)\n",
        "y_p = np.argmax(y_pred,axis=1)\n",
        "y_true = np.argmax(testY,axis=1)\n",
        "print(confusion_matrix(y_true,y_p))\n",
        "print('Classification report')\n",
        "print(classification_report(y_true,y_p))"
      ],
      "execution_count": 23,
      "outputs": [
        {
          "output_type": "stream",
          "text": [
            "[[34  1  0  0  0  0]\n",
            " [ 1 46 24 20  4  0]\n",
            " [ 0 11 41  8  7  0]\n",
            " [ 0 23 14 42 12  0]\n",
            " [ 0  9 12  7 25  0]\n",
            " [ 0  0  0  0  0 90]]\n",
            "Classification report\n",
            "              precision    recall  f1-score   support\n",
            "\n",
            "           0       0.97      0.97      0.97        35\n",
            "           1       0.51      0.48      0.50        95\n",
            "           2       0.45      0.61      0.52        67\n",
            "           3       0.55      0.46      0.50        91\n",
            "           4       0.52      0.47      0.50        53\n",
            "           5       1.00      1.00      1.00        90\n",
            "\n",
            "    accuracy                           0.65       431\n",
            "   macro avg       0.67      0.67      0.66       431\n",
            "weighted avg       0.65      0.65      0.64       431\n",
            "\n"
          ],
          "name": "stdout"
        }
      ]
    },
    {
      "cell_type": "code",
      "metadata": {
        "id": "YqXbyvhF5hdk",
        "colab_type": "code",
        "colab": {}
      },
      "source": [
        "from sklearn.preprocessing import StandardScaler\n",
        "sc = StandardScaler()"
      ],
      "execution_count": 24,
      "outputs": []
    },
    {
      "cell_type": "code",
      "metadata": {
        "id": "EiLZAB909UhM",
        "colab_type": "code",
        "colab": {
          "base_uri": "https://localhost:8080/",
          "height": 34
        },
        "outputId": "a49d0749-275f-48b0-b637-7f456bb5c9d7"
      },
      "source": [
        "model_new = Model(inputs = model.input,outputs = op_layer)\n",
        "train_new = sc.fit_transform(model_new.predict(trainX))\n",
        "test_new = sc.fit_transform(model_new.predict(testX))\n",
        "from sklearn.svm import SVC\n",
        "svm = SVC(kernel='rbf')\n",
        "svm.fit(train_new,np.argmax(trainY,axis=1))\n",
        "svm.score(train_new,np.argmax(trainY,axis=1))"
      ],
      "execution_count": 25,
      "outputs": [
        {
          "output_type": "execute_result",
          "data": {
            "text/plain": [
              "0.9953542392566783"
            ]
          },
          "metadata": {
            "tags": []
          },
          "execution_count": 25
        }
      ]
    },
    {
      "cell_type": "code",
      "metadata": {
        "id": "Xlkway3w7vkB",
        "colab_type": "code",
        "colab": {
          "base_uri": "https://localhost:8080/",
          "height": 34
        },
        "outputId": "23c1133f-e0d9-4b71-8825-797c6901b36e"
      },
      "source": [
        "svm.score(test_new,np.argmax(testY,axis=1))"
      ],
      "execution_count": 26,
      "outputs": [
        {
          "output_type": "execute_result",
          "data": {
            "text/plain": [
              "0.642691415313225"
            ]
          },
          "metadata": {
            "tags": []
          },
          "execution_count": 26
        }
      ]
    },
    {
      "cell_type": "code",
      "metadata": {
        "id": "jpYvIb-9ZAiY",
        "colab_type": "code",
        "colab": {
          "base_uri": "https://localhost:8080/",
          "height": 34
        },
        "outputId": "7749c6db-7cc9-4eb3-ef99-fcd69ad52315"
      },
      "source": [
        "from xgboost import XGBClassifier\n",
        "xg = XGBClassifier()\n",
        "xg.fit(train_new,np.argmax(trainY,axis=1))\n",
        "xg.score(train_new,np.argmax(trainY,axis=1))"
      ],
      "execution_count": 27,
      "outputs": [
        {
          "output_type": "execute_result",
          "data": {
            "text/plain": [
              "1.0"
            ]
          },
          "metadata": {
            "tags": []
          },
          "execution_count": 27
        }
      ]
    },
    {
      "cell_type": "code",
      "metadata": {
        "id": "fmow5N56ZiaA",
        "colab_type": "code",
        "colab": {
          "base_uri": "https://localhost:8080/",
          "height": 34
        },
        "outputId": "0be0432e-dfa6-4d0d-a30e-60d57ca4ac54"
      },
      "source": [
        "xg.score(test_new,np.argmax(testY,axis=1))"
      ],
      "execution_count": 28,
      "outputs": [
        {
          "output_type": "execute_result",
          "data": {
            "text/plain": [
              "0.6380510440835266"
            ]
          },
          "metadata": {
            "tags": []
          },
          "execution_count": 28
        }
      ]
    },
    {
      "cell_type": "code",
      "metadata": {
        "id": "CEI8IbAUAKgB",
        "colab_type": "code",
        "colab": {}
      },
      "source": [
        "from keras.models import load_model\n",
        "model = load_model('/content/gdrive/My Drive/Dockship/model4.h5',compile = True)"
      ],
      "execution_count": null,
      "outputs": []
    }
  ]
}